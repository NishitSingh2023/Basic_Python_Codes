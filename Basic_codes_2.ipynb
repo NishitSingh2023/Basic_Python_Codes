{
 "cells": [
  {
   "cell_type": "markdown",
   "metadata": {},
   "source": [
    "# Python Lists, Tuples and Dicts"
   ]
  },
  {
   "cell_type": "markdown",
   "metadata": {},
   "source": [
    "### Q. Wap to that  creates a list of num from 1 - 20 that are divisible by 2 and 4"
   ]
  },
  {
   "cell_type": "code",
   "execution_count": 2,
   "metadata": {},
   "outputs": [
    {
     "name": "stdout",
     "output_type": "stream",
     "text": [
      "[4, 8, 12, 16, 20]\n"
     ]
    }
   ],
   "source": [
    "l = [i for i in range(1,21) if i%2==0 and i%4==0]\n",
    "print(l)"
   ]
  },
  {
   "cell_type": "markdown",
   "metadata": {},
   "source": [
    "### Q2. construct a list of sq of nums from n to m and display their sum"
   ]
  },
  {
   "cell_type": "code",
   "execution_count": 6,
   "metadata": {},
   "outputs": [
    {
     "name": "stdout",
     "output_type": "stream",
     "text": [
      "Enter first num: 1\n",
      "Enter sec num: 5\n",
      "55\n"
     ]
    }
   ],
   "source": [
    "l = [i**2 for i in range(int(input(\"Enter first num: \")), int(input(\"Enter sec num: \"))+1)]\n",
    "print(sum(l))"
   ]
  },
  {
   "cell_type": "markdown",
   "metadata": {},
   "source": [
    "### Q3. create a list from 1 to10 and del all even index nums"
   ]
  },
  {
   "cell_type": "code",
   "execution_count": 19,
   "metadata": {
    "scrolled": true
   },
   "outputs": [
    {
     "name": "stdout",
     "output_type": "stream",
     "text": [
      "[1, 3, 5, 7, 9]\n"
     ]
    }
   ],
   "source": [
    "l = [i for i in range(1,11)]\n",
    "\n",
    "del l[1::2]\n",
    "print(l)"
   ]
  },
  {
   "cell_type": "markdown",
   "metadata": {},
   "source": [
    "### Q4. Wap to print index at which a particular value exists if the value exist multiple times then print index and print num of times value is repeated in list"
   ]
  },
  {
   "cell_type": "code",
   "execution_count": 17,
   "metadata": {},
   "outputs": [
    {
     "name": "stdout",
     "output_type": "stream",
     "text": [
      "Enter a num: 1\n",
      "Enter a num: 2\n",
      "Enter a num: 3\n",
      "Enter a num: 4\n",
      "Enter a num: 4\n",
      "Enter the num to check: 4\n",
      "\n",
      "4 exist at index 3\n",
      "4 exist at index 4\n",
      "\n",
      "4 repeated itself 2 times\n"
     ]
    }
   ],
   "source": [
    "l = [int(input(\"Enter a num: \")) for i in range(5)]\n",
    "num = int(input(\"Enter the num to check: \"))\n",
    "c=0\n",
    "\n",
    "print()\n",
    "for i in range(len(l)):\n",
    "    if l[i]==num:\n",
    "        print(\"{} exist at index {}\".format(num,i))\n",
    "        c += 1\n",
    "print()\n",
    "print(\"{} repeated itself {} times\".format(num,c))"
   ]
  },
  {
   "cell_type": "markdown",
   "metadata": {},
   "source": [
    "### Q. join Two lists"
   ]
  },
  {
   "cell_type": "code",
   "execution_count": 11,
   "metadata": {},
   "outputs": [
    {
     "name": "stdout",
     "output_type": "stream",
     "text": [
      "Enter length of 1st list: 3\n",
      "a\n",
      "b\n",
      "c\n",
      "Enter length of 2nd list: 2\n",
      "a\n",
      "c\n",
      "['a a', 'b c', 'c']\n"
     ]
    }
   ],
   "source": [
    "l1 = [input() for i in range(int(input(\"Enter length of 1st list: \")))]\n",
    "l2 = [input() for i in range(int(input(\"Enter length of 2nd list: \")))]\n",
    "l3 =[]\n",
    "\n",
    "for i in range(len(l2)):\n",
    "    word = l1[i]+\" \"+l2[i]\n",
    "    l3.append(word)\n",
    "\n",
    "l3.extend(l1[len(l2):])\n",
    "print(l3)\n"
   ]
  },
  {
   "cell_type": "markdown",
   "metadata": {},
   "source": [
    "### Q. print first letter of string  case in sensitive"
   ]
  },
  {
   "cell_type": "code",
   "execution_count": 15,
   "metadata": {},
   "outputs": [
    {
     "name": "stdout",
     "output_type": "stream",
     "text": [
      "Enter string: Python\n",
      "Enter string: Jthon\n",
      "Enter string: java\n",
      "Enter string: C++\n",
      "Enter string: C\n",
      "{'p', 'j', 'c'}\n"
     ]
    }
   ],
   "source": [
    "l = [input(\"Enter string: \") for i in range(5)]\n",
    "l1  = [i[0].lower() for i in l]\n",
    "print(set(l1))\n"
   ]
  },
  {
   "cell_type": "code",
   "execution_count": 16,
   "metadata": {},
   "outputs": [
    {
     "name": "stdout",
     "output_type": "stream",
     "text": [
      "Enter string: a\n",
      "Enter string: b\n",
      "Enter string: c\n",
      "Enter string: d\n",
      "Enter string: e\n",
      "['e', 'd', 'c', 'b', 'a']\n"
     ]
    }
   ],
   "source": [
    "l = [input(\"Enter string: \") for i in range(5)]\n",
    "print(sorted(l,reverse=True))"
   ]
  },
  {
   "cell_type": "code",
   "execution_count": 26,
   "metadata": {},
   "outputs": [
    {
     "name": "stdout",
     "output_type": "stream",
     "text": [
      "Enter num: 1\n",
      "Enter num: 2\n",
      "Enter num: 3\n",
      "Enter num: 4\n",
      "Enter num: 5\n",
      "Enter num: 6\n",
      "[[1, 2], [3, 4], [5, 6]]\n"
     ]
    }
   ],
   "source": [
    "l = [[int(input(\"Enter num: \")) for j in range(2)] for i in range(3)]\n",
    "print(l)"
   ]
  },
  {
   "cell_type": "markdown",
   "metadata": {},
   "source": [
    "### Q. Wap to find a list within list of list whose sum of elements is highest"
   ]
  },
  {
   "cell_type": "code",
   "execution_count": 7,
   "metadata": {},
   "outputs": [
    {
     "name": "stdout",
     "output_type": "stream",
     "text": [
      "Enter num: 1\n",
      "Enter num: 2\n",
      "Enter num: 3\n",
      "Enter num: 4\n",
      "Enter num: 5\n",
      "Enter num: 6\n",
      "Enter num: 7\n",
      "Enter num: 8\n",
      "Enter num: 9\n",
      "Max sum of list is: [7, 8, 9]\n"
     ]
    }
   ],
   "source": [
    "l = [[int(input(\"Enter num: \")) for j in range(3)] for i in range(3)]\n",
    "l1 = [sum(i) for i in l]\n",
    "print(\"Max sum of list is:\",l[l1.index(max(l1))])"
   ]
  },
  {
   "cell_type": "markdown",
   "metadata": {},
   "source": [
    "## enumerate() {index and item of list}"
   ]
  },
  {
   "cell_type": "code",
   "execution_count": 1,
   "metadata": {},
   "outputs": [
    {
     "name": "stdout",
     "output_type": "stream",
     "text": [
      "1 is at index:  0\n",
      "2 is at index:  1\n",
      "3 is at index:  2\n",
      "4 is at index:  3\n",
      "5 is at index:  4\n"
     ]
    }
   ],
   "source": [
    "l = [1, 2, 3, 4, 5]\n",
    "for idx, i in enumerate(l):\n",
    "    print(i, \"is at index: \",idx)"
   ]
  },
  {
   "cell_type": "markdown",
   "metadata": {},
   "source": [
    "### Q. wap that creates a list of 10 random num and divide them in odd and even num list"
   ]
  },
  {
   "cell_type": "code",
   "execution_count": 10,
   "metadata": {},
   "outputs": [
    {
     "name": "stdout",
     "output_type": "stream",
     "text": [
      "[22, 58, 2, 33, 96, 31, 69, 93, 55, 80]\n",
      "Even num are:  [22, 58, 2, 96, 80]\n",
      "Odd num are:  [33, 31, 69, 93, 55]\n"
     ]
    }
   ],
   "source": [
    "import random as r\n",
    "l = [r.randint(1,100) for i in range(10)]\n",
    "print(l)\n",
    "even = [i for i in l if i%2==0]\n",
    "odd = [i for i in l if i%2!=0]\n",
    "\n",
    "print(\"Even num are: \",even)\n",
    "print(\"Odd num are: \",odd)"
   ]
  },
  {
   "cell_type": "markdown",
   "metadata": {},
   "source": [
    "### Q.  using list comprehension create a list of num based on following eq ((x+x**y)/2m)+3 range 100"
   ]
  },
  {
   "cell_type": "code",
   "execution_count": 17,
   "metadata": {},
   "outputs": [
    {
     "name": "stdout",
     "output_type": "stream",
     "text": [
      "5 10\n",
      "[4882818.0, 9765633.0, 14648448.0, 19531263.0, 24414078.0, 29296893.0, 34179708.0, 39062523.0, 43945338.0, 48828153.0, 53710968.0, 58593783.0, 63476598.0, 68359413.0, 73242228.0, 78125043.0, 83007858.0, 87890673.0, 92773488.0, 97656303.0, 102539118.0, 107421933.0, 112304748.0, 117187563.0, 122070378.0, 126953193.0, 131836008.0, 136718823.0, 141601638.0, 146484453.0, 151367268.0, 156250083.0, 161132898.0, 166015713.0, 170898528.0, 175781343.0, 180664158.0, 185546973.0, 190429788.0, 195312603.0, 200195418.0, 205078233.0, 209961048.0, 214843863.0, 219726678.0, 224609493.0, 229492308.0, 234375123.0, 239257938.0, 244140753.0, 249023568.0, 253906383.0, 258789198.0, 263672013.0, 268554828.0, 273437643.0, 278320458.0, 283203273.0, 288086088.0, 292968903.0, 297851718.0, 302734533.0, 307617348.0, 312500163.0, 317382978.0, 322265793.0, 327148608.0, 332031423.0, 336914238.0, 341797053.0, 346679868.0, 351562683.0, 356445498.0, 361328313.0, 366211128.0, 371093943.0, 375976758.0, 380859573.0, 385742388.0, 390625203.0, 395508018.0, 400390833.0, 405273648.0, 410156463.0, 415039278.0, 419922093.0, 424804908.0, 429687723.0, 434570538.0, 439453353.0, 444336168.0, 449218983.0, 454101798.0, 458984613.0, 463867428.0, 468750243.0, 473633058.0, 478515873.0, 483398688.0]\n"
     ]
    }
   ],
   "source": [
    "x,y = input().split()\n",
    "l = [((int(x)+int(x)**int(y))/2*m)+3 for m in range(1,100)] \n",
    "print(l)"
   ]
  },
  {
   "cell_type": "markdown",
   "metadata": {},
   "source": [
    "### Q. take input until user enters 0 scale each element by a factor of 10 and display : orignal list , orignal list sorted ,modified and modified sorted list"
   ]
  },
  {
   "cell_type": "code",
   "execution_count": 20,
   "metadata": {},
   "outputs": [
    {
     "name": "stdout",
     "output_type": "stream",
     "text": [
      "1\n",
      "12\n",
      "13\n",
      "45\n",
      "65\n",
      "99\n",
      "0\n",
      "orignal list [1, 12, 13, 45, 65, 99]\n",
      "orignal list sorted [1, 12, 13, 45, 65, 99]\n",
      "modded list [10, 120, 130, 450, 650, 990]\n",
      "modded list sorted [10, 120, 130, 450, 650, 990]\n"
     ]
    }
   ],
   "source": [
    "l = []\n",
    "while True:\n",
    "    x = int(input())\n",
    "    if x==0:\n",
    "        break\n",
    "    else:\n",
    "        l.append(x)\n",
    "l1 = [i*10 for i in l]\n",
    "print(\"orignal list\", l)\n",
    "print(\"orignal list sorted\", sorted(l))\n",
    "print(\"modded list\", l1)\n",
    "print(\"modded list sorted\", sorted(l1))"
   ]
  },
  {
   "cell_type": "markdown",
   "metadata": {},
   "source": [
    "### Q. split a list every nth element"
   ]
  },
  {
   "cell_type": "code",
   "execution_count": 27,
   "metadata": {},
   "outputs": [
    {
     "name": "stdout",
     "output_type": "stream",
     "text": [
      "Enter a num: 1\n",
      "Enter a num: 2\n",
      "Enter a num: 3\n",
      "Enter a num: 4\n",
      "Enter a num: 5\n",
      "Enter a num: 6\n",
      "Enter a num: 7\n",
      "Enter a num: 8\n",
      "Enter a num: 9\n",
      "Enter index: 2\n"
     ]
    },
    {
     "ename": "IndexError",
     "evalue": "string index out of range",
     "output_type": "error",
     "traceback": [
      "\u001b[1;31m---------------------------------------------------------------------------\u001b[0m",
      "\u001b[1;31mIndexError\u001b[0m                                Traceback (most recent call last)",
      "\u001b[1;32m<ipython-input-27-279d73c6e5cc>\u001b[0m in \u001b[0;36m<module>\u001b[1;34m\u001b[0m\n\u001b[0;32m      1\u001b[0m \u001b[0ml\u001b[0m \u001b[1;33m=\u001b[0m \u001b[1;33m[\u001b[0m\u001b[0minput\u001b[0m\u001b[1;33m(\u001b[0m\u001b[1;34m\"Enter a num: \"\u001b[0m\u001b[1;33m)\u001b[0m \u001b[1;32mfor\u001b[0m \u001b[0mi\u001b[0m \u001b[1;32min\u001b[0m \u001b[0mrange\u001b[0m\u001b[1;33m(\u001b[0m\u001b[1;36m9\u001b[0m\u001b[1;33m)\u001b[0m\u001b[1;33m]\u001b[0m\u001b[1;33m\u001b[0m\u001b[1;33m\u001b[0m\u001b[0m\n\u001b[1;32m----> 2\u001b[1;33m \u001b[0ml1\u001b[0m \u001b[1;33m=\u001b[0m \u001b[1;33m[\u001b[0m\u001b[1;33m[\u001b[0m\u001b[0ml\u001b[0m\u001b[1;33m[\u001b[0m\u001b[0mi\u001b[0m\u001b[1;33m]\u001b[0m\u001b[1;33m[\u001b[0m\u001b[0mj\u001b[0m\u001b[1;33m]\u001b[0m \u001b[1;32mfor\u001b[0m \u001b[0mj\u001b[0m \u001b[1;32min\u001b[0m \u001b[0mrange\u001b[0m\u001b[1;33m(\u001b[0m\u001b[0mint\u001b[0m\u001b[1;33m(\u001b[0m\u001b[0minput\u001b[0m\u001b[1;33m(\u001b[0m\u001b[1;34m\"Enter index: \"\u001b[0m\u001b[1;33m)\u001b[0m\u001b[1;33m)\u001b[0m\u001b[1;33m)\u001b[0m\u001b[1;33m]\u001b[0m \u001b[1;32mfor\u001b[0m \u001b[0mi\u001b[0m \u001b[1;32min\u001b[0m \u001b[0mrange\u001b[0m\u001b[1;33m(\u001b[0m\u001b[0mlen\u001b[0m\u001b[1;33m(\u001b[0m\u001b[0ml\u001b[0m\u001b[1;33m)\u001b[0m\u001b[1;33m-\u001b[0m\u001b[1;36m1\u001b[0m\u001b[1;33m)\u001b[0m\u001b[1;33m]\u001b[0m\u001b[1;33m\u001b[0m\u001b[1;33m\u001b[0m\u001b[0m\n\u001b[0m\u001b[0;32m      3\u001b[0m \u001b[0mprint\u001b[0m\u001b[1;33m(\u001b[0m\u001b[0ml1\u001b[0m\u001b[1;33m)\u001b[0m\u001b[1;33m\u001b[0m\u001b[1;33m\u001b[0m\u001b[0m\n",
      "\u001b[1;32m<ipython-input-27-279d73c6e5cc>\u001b[0m in \u001b[0;36m<listcomp>\u001b[1;34m(.0)\u001b[0m\n\u001b[0;32m      1\u001b[0m \u001b[0ml\u001b[0m \u001b[1;33m=\u001b[0m \u001b[1;33m[\u001b[0m\u001b[0minput\u001b[0m\u001b[1;33m(\u001b[0m\u001b[1;34m\"Enter a num: \"\u001b[0m\u001b[1;33m)\u001b[0m \u001b[1;32mfor\u001b[0m \u001b[0mi\u001b[0m \u001b[1;32min\u001b[0m \u001b[0mrange\u001b[0m\u001b[1;33m(\u001b[0m\u001b[1;36m9\u001b[0m\u001b[1;33m)\u001b[0m\u001b[1;33m]\u001b[0m\u001b[1;33m\u001b[0m\u001b[1;33m\u001b[0m\u001b[0m\n\u001b[1;32m----> 2\u001b[1;33m \u001b[0ml1\u001b[0m \u001b[1;33m=\u001b[0m \u001b[1;33m[\u001b[0m\u001b[1;33m[\u001b[0m\u001b[0ml\u001b[0m\u001b[1;33m[\u001b[0m\u001b[0mi\u001b[0m\u001b[1;33m]\u001b[0m\u001b[1;33m[\u001b[0m\u001b[0mj\u001b[0m\u001b[1;33m]\u001b[0m \u001b[1;32mfor\u001b[0m \u001b[0mj\u001b[0m \u001b[1;32min\u001b[0m \u001b[0mrange\u001b[0m\u001b[1;33m(\u001b[0m\u001b[0mint\u001b[0m\u001b[1;33m(\u001b[0m\u001b[0minput\u001b[0m\u001b[1;33m(\u001b[0m\u001b[1;34m\"Enter index: \"\u001b[0m\u001b[1;33m)\u001b[0m\u001b[1;33m)\u001b[0m\u001b[1;33m)\u001b[0m\u001b[1;33m]\u001b[0m \u001b[1;32mfor\u001b[0m \u001b[0mi\u001b[0m \u001b[1;32min\u001b[0m \u001b[0mrange\u001b[0m\u001b[1;33m(\u001b[0m\u001b[0mlen\u001b[0m\u001b[1;33m(\u001b[0m\u001b[0ml\u001b[0m\u001b[1;33m)\u001b[0m\u001b[1;33m-\u001b[0m\u001b[1;36m1\u001b[0m\u001b[1;33m)\u001b[0m\u001b[1;33m]\u001b[0m\u001b[1;33m\u001b[0m\u001b[1;33m\u001b[0m\u001b[0m\n\u001b[0m\u001b[0;32m      3\u001b[0m \u001b[0mprint\u001b[0m\u001b[1;33m(\u001b[0m\u001b[0ml1\u001b[0m\u001b[1;33m)\u001b[0m\u001b[1;33m\u001b[0m\u001b[1;33m\u001b[0m\u001b[0m\n",
      "\u001b[1;32m<ipython-input-27-279d73c6e5cc>\u001b[0m in \u001b[0;36m<listcomp>\u001b[1;34m(.0)\u001b[0m\n\u001b[0;32m      1\u001b[0m \u001b[0ml\u001b[0m \u001b[1;33m=\u001b[0m \u001b[1;33m[\u001b[0m\u001b[0minput\u001b[0m\u001b[1;33m(\u001b[0m\u001b[1;34m\"Enter a num: \"\u001b[0m\u001b[1;33m)\u001b[0m \u001b[1;32mfor\u001b[0m \u001b[0mi\u001b[0m \u001b[1;32min\u001b[0m \u001b[0mrange\u001b[0m\u001b[1;33m(\u001b[0m\u001b[1;36m9\u001b[0m\u001b[1;33m)\u001b[0m\u001b[1;33m]\u001b[0m\u001b[1;33m\u001b[0m\u001b[1;33m\u001b[0m\u001b[0m\n\u001b[1;32m----> 2\u001b[1;33m \u001b[0ml1\u001b[0m \u001b[1;33m=\u001b[0m \u001b[1;33m[\u001b[0m\u001b[1;33m[\u001b[0m\u001b[0ml\u001b[0m\u001b[1;33m[\u001b[0m\u001b[0mi\u001b[0m\u001b[1;33m]\u001b[0m\u001b[1;33m[\u001b[0m\u001b[0mj\u001b[0m\u001b[1;33m]\u001b[0m \u001b[1;32mfor\u001b[0m \u001b[0mj\u001b[0m \u001b[1;32min\u001b[0m \u001b[0mrange\u001b[0m\u001b[1;33m(\u001b[0m\u001b[0mint\u001b[0m\u001b[1;33m(\u001b[0m\u001b[0minput\u001b[0m\u001b[1;33m(\u001b[0m\u001b[1;34m\"Enter index: \"\u001b[0m\u001b[1;33m)\u001b[0m\u001b[1;33m)\u001b[0m\u001b[1;33m)\u001b[0m\u001b[1;33m]\u001b[0m \u001b[1;32mfor\u001b[0m \u001b[0mi\u001b[0m \u001b[1;32min\u001b[0m \u001b[0mrange\u001b[0m\u001b[1;33m(\u001b[0m\u001b[0mlen\u001b[0m\u001b[1;33m(\u001b[0m\u001b[0ml\u001b[0m\u001b[1;33m)\u001b[0m\u001b[1;33m-\u001b[0m\u001b[1;36m1\u001b[0m\u001b[1;33m)\u001b[0m\u001b[1;33m]\u001b[0m\u001b[1;33m\u001b[0m\u001b[1;33m\u001b[0m\u001b[0m\n\u001b[0m\u001b[0;32m      3\u001b[0m \u001b[0mprint\u001b[0m\u001b[1;33m(\u001b[0m\u001b[0ml1\u001b[0m\u001b[1;33m)\u001b[0m\u001b[1;33m\u001b[0m\u001b[1;33m\u001b[0m\u001b[0m\n",
      "\u001b[1;31mIndexError\u001b[0m: string index out of range"
     ]
    }
   ],
   "source": [
    "l = [input(\"Enter a num: \") for i in range(9)]\n",
    "l1 = [[l[i][j] for j in range(int(input(\"Enter index: \")))] for i in range(len(l)-1)]\n",
    "print(l1)"
   ]
  },
  {
   "cell_type": "markdown",
   "metadata": {},
   "source": [
    "### Q. wap to convert a list of num to into a integer"
   ]
  },
  {
   "cell_type": "code",
   "execution_count": null,
   "metadata": {},
   "outputs": [],
   "source": []
  },
  {
   "cell_type": "markdown",
   "metadata": {},
   "source": [
    "### Q. wap to create list by concat a list with range(1,n)"
   ]
  },
  {
   "cell_type": "code",
   "execution_count": null,
   "metadata": {},
   "outputs": [],
   "source": []
  },
  {
   "cell_type": "markdown",
   "metadata": {},
   "source": [
    "### Q. select a num randomly from list if a num is prime add a functionality to auto close your editor"
   ]
  },
  {
   "cell_type": "code",
   "execution_count": null,
   "metadata": {},
   "outputs": [],
   "source": []
  }
 ],
 "metadata": {
  "kernelspec": {
   "display_name": "Python 3",
   "language": "python",
   "name": "python3"
  },
  "language_info": {
   "codemirror_mode": {
    "name": "ipython",
    "version": 3
   },
   "file_extension": ".py",
   "mimetype": "text/x-python",
   "name": "python",
   "nbconvert_exporter": "python",
   "pygments_lexer": "ipython3",
   "version": "3.6.8"
  }
 },
 "nbformat": 4,
 "nbformat_minor": 2
}
