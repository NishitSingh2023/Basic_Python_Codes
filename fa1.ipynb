{
 "cells": [
  {
   "cell_type": "markdown",
   "metadata": {},
   "source": [
    "### Q. a robot moves in plane starrting from the orgnal point (0,0) the robot can move up, down, left and right, with the give steps\n",
    "sample i/p:<br>\n",
    "up 5<br>\n",
    "down 2<br>\n",
    "left 3<br>\n",
    "right 2<br>\n",
    "\n",
    "sample o/p:2\n",
    "### wap to compute distance from the current position after seq of movements if distance is in float print nearest int "
   ]
  },
  {
   "cell_type": "code",
   "execution_count": 2,
   "metadata": {},
   "outputs": [
    {
     "name": "stdout",
     "output_type": "stream",
     "text": [
      "up 5\n",
      "down 3\n",
      "left 3\n",
      "right 2\n",
      "2\n"
     ]
    }
   ],
   "source": [
    "import math as m\n",
    "\n",
    "a,b,c,d = input().split(), input().split(), input().split(), input().split()\n",
    "\n",
    "u,d,l,r = int(a[1]), int(b[1]), int(c[1]), int(d[1])\n",
    "\n",
    "\n",
    "\n",
    "x,y = 0,0\n",
    "y += u\n",
    "y -= d\n",
    "x += r\n",
    "x -= l\n",
    "\n",
    "dis = m.sqrt((abs(y))**2+(abs(y))**2)\n",
    "\n",
    "print(int(dis))\n"
   ]
  },
  {
   "cell_type": "markdown",
   "metadata": {},
   "source": [
    "### Q2. A non negative int is entered by the user check whether a given integer is a palindrome num or not if palindrome  display sum of digits"
   ]
  },
  {
   "cell_type": "code",
   "execution_count": 3,
   "metadata": {},
   "outputs": [
    {
     "name": "stdout",
     "output_type": "stream",
     "text": [
      "Enter a int: 1223\n",
      "Not palindrome\n"
     ]
    }
   ],
   "source": [
    "n = input(\"Enter a int: \")\n",
    "\n",
    "if n.isdigit():\n",
    "    if n == n[::-1]:\n",
    "        l = [int(i) for i in n]\n",
    "        print(\"Sum of int is: \", sum(l))\n",
    "    else:\n",
    "        print(\"Not palindrome\")\n",
    "    \n",
    "else:\n",
    "    print(\"Not an integer\")\n",
    "    "
   ]
  },
  {
   "cell_type": "markdown",
   "metadata": {},
   "source": [
    "### Q3. wap to compute all the prefix and suffix of a string the input provided is a string followed by an alphabet acc to which prefix and suffix is to be calculated display all the substrings which are both prefix and suffix\n",
    "i/p: pythonprogramming<br>\n",
    "     n<br>\n",
    "\n",
    "\n",
    "prefixs:<br>\n",
    "suffixes:<br> \n",
    "### Also take an input for the sec alphabet which generates prefixes in the range of first to sec and display them all\n"
   ]
  },
  {
   "cell_type": "code",
   "execution_count": 2,
   "metadata": {},
   "outputs": [
    {
     "name": "stdout",
     "output_type": "stream",
     "text": [
      "attitude\n",
      "e\n",
      "Prefixes are: \n",
      "\n",
      "a\n",
      "at\n",
      "att\n",
      "atti\n",
      "attit\n",
      "attitu\n",
      "attitud\n",
      "attitude\n",
      "Suffixes are: \n",
      "\n",
      "e\n",
      "Enter aplhabet1: t\n",
      "Enter aplhabet2: e\n",
      "Sub strings btw  t and e are: \n",
      "\n",
      "t\n",
      "tt\n",
      "tti\n",
      "ttit\n",
      "ttitu\n",
      "ttitud\n",
      "ttitude\n"
     ]
    }
   ],
   "source": [
    "word = input()\n",
    "a = input()\n",
    "p = []\n",
    "s = []\n",
    "\n",
    "if len(a)!=1:\n",
    "    print(\"Please select a char\")\n",
    "else:\n",
    "    for i in word:\n",
    "        if i == a:\n",
    "            idx = word.index(i)\n",
    "    \n",
    "    print(\"Prefixes are: \")\n",
    "    for i in range(idx+2):\n",
    "        for j in range(i):\n",
    "            print(word[j], end=\"\")\n",
    "        print()\n",
    "    \n",
    "            \n",
    "    print(\"Suffixes are: \")\n",
    "    for i in range(idx,len(word)+1):\n",
    "        for j in range(idx, i):\n",
    "            print(word[j], end=\"\")\n",
    "        print()\n",
    "        \n",
    "\n",
    "\n",
    "a,b = input(\"Enter aplhabet1: \"), input(\"Enter aplhabet2: \")\n",
    "for i in word:\n",
    "    if i == a:\n",
    "        idx1 = word.index(i)\n",
    "    if i == b:\n",
    "        idx2 = word.index(i)\n",
    "\n",
    "print(\"Sub strings btw \",a,\"and\",b,\"are: \")     \n",
    "for i in range(idx1,idx2+2):\n",
    "        for j in range(idx1, i):\n",
    "            print(word[j], end=\"\")\n",
    "        print()\n"
   ]
  },
  {
   "cell_type": "code",
   "execution_count": 1,
   "metadata": {},
   "outputs": [
    {
     "ename": "TypeError",
     "evalue": "unsupported operand type(s) for ** or pow(): 'str' and 'int'",
     "output_type": "error",
     "traceback": [
      "\u001b[1;31m---------------------------------------------------------------------------\u001b[0m",
      "\u001b[1;31mTypeError\u001b[0m                                 Traceback (most recent call last)",
      "\u001b[1;32m<ipython-input-1-80a0186f7c2c>\u001b[0m in \u001b[0;36m<module>\u001b[1;34m\u001b[0m\n\u001b[0;32m      1\u001b[0m \u001b[1;32mdef\u001b[0m \u001b[0ms\u001b[0m\u001b[1;33m(\u001b[0m\u001b[0mmsg\u001b[0m\u001b[1;33m,\u001b[0m\u001b[0mt\u001b[0m\u001b[1;33m=\u001b[0m\u001b[1;36m1\u001b[0m\u001b[1;33m)\u001b[0m\u001b[1;33m:\u001b[0m\u001b[1;33m\u001b[0m\u001b[1;33m\u001b[0m\u001b[0m\n\u001b[0;32m      2\u001b[0m     \u001b[0mprint\u001b[0m\u001b[1;33m(\u001b[0m\u001b[0mmsg\u001b[0m\u001b[1;33m**\u001b[0m\u001b[0mt\u001b[0m\u001b[1;33m)\u001b[0m\u001b[1;33m\u001b[0m\u001b[1;33m\u001b[0m\u001b[0m\n\u001b[1;32m----> 3\u001b[1;33m \u001b[0ms\u001b[0m\u001b[1;33m(\u001b[0m\u001b[1;34m'avg'\u001b[0m\u001b[1;33m)\u001b[0m\u001b[1;33m\u001b[0m\u001b[1;33m\u001b[0m\u001b[0m\n\u001b[0m\u001b[0;32m      4\u001b[0m \u001b[0ms\u001b[0m\u001b[1;33m(\u001b[0m\u001b[1;34m'avg'\u001b[0m\u001b[1;33m,\u001b[0m\u001b[1;36m2\u001b[0m\u001b[1;33m)\u001b[0m\u001b[1;33m\u001b[0m\u001b[1;33m\u001b[0m\u001b[0m\n",
      "\u001b[1;32m<ipython-input-1-80a0186f7c2c>\u001b[0m in \u001b[0;36ms\u001b[1;34m(msg, t)\u001b[0m\n\u001b[0;32m      1\u001b[0m \u001b[1;32mdef\u001b[0m \u001b[0ms\u001b[0m\u001b[1;33m(\u001b[0m\u001b[0mmsg\u001b[0m\u001b[1;33m,\u001b[0m\u001b[0mt\u001b[0m\u001b[1;33m=\u001b[0m\u001b[1;36m1\u001b[0m\u001b[1;33m)\u001b[0m\u001b[1;33m:\u001b[0m\u001b[1;33m\u001b[0m\u001b[1;33m\u001b[0m\u001b[0m\n\u001b[1;32m----> 2\u001b[1;33m     \u001b[0mprint\u001b[0m\u001b[1;33m(\u001b[0m\u001b[0mmsg\u001b[0m\u001b[1;33m**\u001b[0m\u001b[0mt\u001b[0m\u001b[1;33m)\u001b[0m\u001b[1;33m\u001b[0m\u001b[1;33m\u001b[0m\u001b[0m\n\u001b[0m\u001b[0;32m      3\u001b[0m \u001b[0ms\u001b[0m\u001b[1;33m(\u001b[0m\u001b[1;34m'avg'\u001b[0m\u001b[1;33m)\u001b[0m\u001b[1;33m\u001b[0m\u001b[1;33m\u001b[0m\u001b[0m\n\u001b[0;32m      4\u001b[0m \u001b[0ms\u001b[0m\u001b[1;33m(\u001b[0m\u001b[1;34m'avg'\u001b[0m\u001b[1;33m,\u001b[0m\u001b[1;36m2\u001b[0m\u001b[1;33m)\u001b[0m\u001b[1;33m\u001b[0m\u001b[1;33m\u001b[0m\u001b[0m\n",
      "\u001b[1;31mTypeError\u001b[0m: unsupported operand type(s) for ** or pow(): 'str' and 'int'"
     ]
    }
   ],
   "source": []
  },
  {
   "cell_type": "code",
   "execution_count": null,
   "metadata": {},
   "outputs": [],
   "source": []
  }
 ],
 "metadata": {
  "kernelspec": {
   "display_name": "Python 3",
   "language": "python",
   "name": "python3"
  },
  "language_info": {
   "codemirror_mode": {
    "name": "ipython",
    "version": 3
   },
   "file_extension": ".py",
   "mimetype": "text/x-python",
   "name": "python",
   "nbconvert_exporter": "python",
   "pygments_lexer": "ipython3",
   "version": "3.6.8"
  }
 },
 "nbformat": 4,
 "nbformat_minor": 2
}
