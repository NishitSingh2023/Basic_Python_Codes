{
 "cells": [
  {
   "cell_type": "markdown",
   "metadata": {},
   "source": [
    "### Q. a robot moves in plane starrting from the orgnal point (0,0) the robot can move up, down, left and right, with the give steps\n",
    "sample i/p:<br>\n",
    "up 5<br>\n",
    "down 2<br>\n",
    "left 3<br>\n",
    "right 2<br>\n",
    "\n",
    "sample o/p:2\n",
    "### wap to compute distance from the current position after seq of movements if distance is in float print nearest int "
   ]
  },
  {
   "cell_type": "code",
   "execution_count": 2,
   "metadata": {},
   "outputs": [
    {
     "name": "stdout",
     "output_type": "stream",
     "text": [
      "up 5\n",
      "down 3\n",
      "left 3\n",
      "right 2\n",
      "2\n"
     ]
    }
   ],
   "source": [
    "import math as m\n",
    "\n",
    "a,b,c,d = input().split(), input().split(), input().split(), input().split()\n",
    "\n",
    "u,d,l,r = int(a[1]), int(b[1]), int(c[1]), int(d[1])\n",
    "\n",
    "\n",
    "\n",
    "x,y = 0,0\n",
    "y += u\n",
    "y -= d\n",
    "x += r\n",
    "x -= l\n",
    "\n",
    "dis = m.sqrt((abs(y))**2+(abs(y))**2)\n",
    "\n",
    "print(int(dis))\n"
   ]
  },
  {
   "cell_type": "markdown",
   "metadata": {},
   "source": [
    "### Q2. A non negative int is entered by the user check whether a given integer is a palindrome num or not if palindrome  display sum of digits"
   ]
  },
  {
   "cell_type": "code",
   "execution_count": 3,
   "metadata": {},
   "outputs": [
    {
     "name": "stdout",
     "output_type": "stream",
     "text": [
      "Enter a int: 1223\n",
      "Not palindrome\n"
     ]
    }
   ],
   "source": [
    "n = input(\"Enter a int: \")\n",
    "\n",
    "if n.isdigit():\n",
    "    if n == n[::-1]:\n",
    "        l = [int(i) for i in n]\n",
    "        print(\"Sum of int is: \", sum(l))\n",
    "    else:\n",
    "        print(\"Not palindrome\")\n",
    "    \n",
    "else:\n",
    "    print(\"Not an integer\")\n",
    "    "
   ]
  },
  {
   "cell_type": "markdown",
   "metadata": {},
   "source": [
    "### Q3. wap to compute all the prefix and suffix of a string the input provided is a string followed by an alphabet acc to which prefix and suffix is to be calculated display all the substrings which are both prefix and suffix\n",
    "i/p: pythonprogramming<br>\n",
    "     n<br>\n",
    "\n",
    "\n",
    "prefixs:<br>\n",
    "suffixes:<br> \n",
    "### Also take an input for the sec alphabet which generates prefixes in the range of first to sec and display them all\n"
   ]
  },
  {
   "cell_type": "code",
   "execution_count": 5,
   "metadata": {},
   "outputs": [
    {
     "name": "stdout",
     "output_type": "stream",
     "text": [
      "pythonprograming\n",
      "n\n",
      "Prefixes are: \n",
      "\n",
      "p\n",
      "py\n",
      "pyt\n",
      "pyth\n",
      "pytho\n",
      "python\n",
      "Suffixes are: \n",
      "\n",
      "n\n",
      "np\n",
      "npr\n",
      "npro\n",
      "nprog\n",
      "nprogr\n",
      "nprogra\n",
      "nprogram\n",
      "nprogrami\n",
      "nprogramin\n",
      "nprograming\n",
      "Enter aplhabet1: t\n",
      "Enter aplhabet2: r\n",
      "Sub strings btw  t and r are: \n",
      "\n",
      "t\n",
      "th\n",
      "tho\n",
      "thon\n",
      "thonp\n",
      "thonpr\n"
     ]
    }
   ],
   "source": [
    "word = input()\n",
    "a = input()\n",
    "p = []\n",
    "s = []\n",
    "\n",
    "if len(a)!=1:\n",
    "    print(\"Please select a char\")\n",
    "else:\n",
    "    for i in word:\n",
    "        if i == a:\n",
    "            idx = word.index(i)\n",
    "    \n",
    "    print(\"Prefixes are: \")\n",
    "    for i in range(idx+2):\n",
    "        for j in range(i):\n",
    "            print(word[j], end=\"\")\n",
    "        print()\n",
    "    \n",
    "            \n",
    "    print(\"Suffixes are: \")\n",
    "    for i in range(idx,len(word)+1):\n",
    "        for j in range(idx, i):\n",
    "            print(word[j], end=\"\")\n",
    "        print()\n",
    "        \n",
    "\n",
    "\n",
    "a,b = input(\"Enter aplhabet1: \"), input(\"Enter aplhabet2: \")\n",
    "for i in word:\n",
    "    if i == a:\n",
    "        idx1 = word.index(i)\n",
    "    if i == b:\n",
    "        idx2 = word.index(i)\n",
    "\n",
    "print(\"Sub strings btw \",a,\"and\",b,\"are: \")     \n",
    "for i in range(idx1,idx2+2):\n",
    "        for j in range(idx1, i):\n",
    "            print(word[j], end=\"\")\n",
    "        print()\n"
   ]
  },
  {
   "cell_type": "code",
   "execution_count": null,
   "metadata": {},
   "outputs": [],
   "source": []
  }
 ],
 "metadata": {
  "kernelspec": {
   "display_name": "Python 3",
   "language": "python",
   "name": "python3"
  },
  "language_info": {
   "codemirror_mode": {
    "name": "ipython",
    "version": 3
   },
   "file_extension": ".py",
   "mimetype": "text/x-python",
   "name": "python",
   "nbconvert_exporter": "python",
   "pygments_lexer": "ipython3",
   "version": "3.6.8"
  }
 },
 "nbformat": 4,
 "nbformat_minor": 2
}
