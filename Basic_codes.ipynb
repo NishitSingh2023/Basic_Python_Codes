{
 "cells": [
  {
   "cell_type": "markdown",
   "metadata": {},
   "source": [
    "# Python Codes"
   ]
  },
  {
   "cell_type": "markdown",
   "metadata": {},
   "source": [
    "### 1. Sum of Complex Numbers "
   ]
  },
  {
   "cell_type": "code",
   "execution_count": 4,
   "metadata": {},
   "outputs": [
    {
     "name": "stdout",
     "output_type": "stream",
     "text": [
      "1 2 3 4\n"
     ]
    },
    {
     "data": {
      "text/plain": [
       "(4+6j)"
      ]
     },
     "execution_count": 4,
     "metadata": {},
     "output_type": "execute_result"
    }
   ],
   "source": [
    "a,b,c,d = input().split()\n",
    "a,b,c,d = int(a), int(b), int(c), int(d)\n",
    "complex(a,b)+complex(c,d)"
   ]
  },
  {
   "cell_type": "markdown",
   "metadata": {},
   "source": [
    "### 2. First name Last name "
   ]
  },
  {
   "cell_type": "code",
   "execution_count": 5,
   "metadata": {},
   "outputs": [
    {
     "name": "stdout",
     "output_type": "stream",
     "text": [
      "nishit singh\n",
      "nishitsingh\n",
      "nishit singh\n"
     ]
    }
   ],
   "source": [
    "a, b = input().split()\n",
    "print(a+b)\n",
    "print(a+\" \"+b)"
   ]
  },
  {
   "cell_type": "markdown",
   "metadata": {},
   "source": [
    "### 3. String multiply"
   ]
  },
  {
   "cell_type": "code",
   "execution_count": 6,
   "metadata": {},
   "outputs": [
    {
     "name": "stdout",
     "output_type": "stream",
     "text": [
      "abc\n",
      "3\n",
      "abcabcabc\n",
      "abc3\n"
     ]
    }
   ],
   "source": [
    "a, b = input(), int(input())\n",
    "print(a*b)\n",
    "print(a+str(b))"
   ]
  },
  {
   "cell_type": "markdown",
   "metadata": {},
   "source": [
    "### 4. Variable type"
   ]
  },
  {
   "cell_type": "code",
   "execution_count": 7,
   "metadata": {},
   "outputs": [
    {
     "name": "stdout",
     "output_type": "stream",
     "text": [
      "<class 'int'> <class 'float'> <class 'str'> <class 'complex'>\n"
     ]
    }
   ],
   "source": [
    "a, b, c, d = 2, 0.05, 'demo', 2+4j\n",
    "print(type(a), type(b), type(c), type(d))"
   ]
  },
  {
   "cell_type": "markdown",
   "metadata": {},
   "source": [
    "### 5. Operaters"
   ]
  },
  {
   "cell_type": "markdown",
   "metadata": {},
   "source": [
    "`%` remainder<br>\n",
    "`**` exponential<br>\n",
    "`*` multiply<br>\n",
    "`-` subtraction<br>\n",
    "`+` addition<br>\n",
    "`/` division<br>\n",
    "`//` int division<br>\n",
    "\n",
    "#### Priority (decending)\n",
    "`( )`   <br>\n",
    "`* / //`<br>\n",
    "`+ -`   <br>\n",
    "`=`     <br>"
   ]
  },
  {
   "cell_type": "markdown",
   "metadata": {},
   "source": [
    "### 6. More operaters\n",
    "#### Identity operater \n",
    "**EX:-**<br>\n",
    "a = 1<br>\n",
    "id(a)\n",
    "#### `is` and `not is`\n",
    "**EX:-**<br>\n",
    "if(a is b):<br>"
   ]
  },
  {
   "cell_type": "markdown",
   "metadata": {},
   "source": [
    "### 7. Raw String"
   ]
  },
  {
   "cell_type": "code",
   "execution_count": 2,
   "metadata": {},
   "outputs": [
    {
     "name": "stdout",
     "output_type": "stream",
     "text": [
      "Whats \\ up?\n",
      "Whats \\\\ up?\n"
     ]
    }
   ],
   "source": [
    "print(\"Whats \\\\ up?\") #normal string\n",
    "print(R\"Whats \\\\ up?\") #raw string"
   ]
  },
  {
   "cell_type": "markdown",
   "metadata": {},
   "source": [
    "### 8. String Slicing"
   ]
  },
  {
   "cell_type": "code",
   "execution_count": 29,
   "metadata": {},
   "outputs": [
    {
     "data": {
      "text/plain": [
       "'yhni ay!'"
      ]
     },
     "execution_count": 29,
     "metadata": {},
     "output_type": "execute_result"
    }
   ],
   "source": [
    "s = 'Python is easy!!!'\n",
    "s[1:-1:2]"
   ]
  },
  {
   "cell_type": "markdown",
   "metadata": {},
   "source": [
    "### 9. Dictionary"
   ]
  },
  {
   "cell_type": "code",
   "execution_count": 34,
   "metadata": {},
   "outputs": [
    {
     "name": "stdout",
     "output_type": "stream",
     "text": [
      "{'Item': 'Chocolate', 'Price': 100}\n",
      "Chocolate\n"
     ]
    }
   ],
   "source": [
    "Dict = {\"Item\":\"Chocolate\", \"Price\":100}\n",
    "print(Dict)\n",
    "print(Dict[\"Item\"])"
   ]
  },
  {
   "cell_type": "code",
   "execution_count": null,
   "metadata": {},
   "outputs": [],
   "source": [
    "##q1. wap to cal distance btw 2 points on cordinate axis\n",
    "##q2. wap to perform arithmatic operations of int float and comlex\n",
    "##q3. wap print avg and deviation from it"
   ]
  },
  {
   "cell_type": "markdown",
   "metadata": {},
   "source": [
    "#### Q1. wap to cal distance btw 2 points on cordinate axis"
   ]
  },
  {
   "cell_type": "code",
   "execution_count": 1,
   "metadata": {},
   "outputs": [
    {
     "name": "stdout",
     "output_type": "stream",
     "text": [
      "X cord of first point:1\n",
      "Y cord of first point:1\n",
      "X cord of sec point:2\n",
      "Y cord of sec point:2\n",
      "distance btw pts is:  1.4142135623730951\n"
     ]
    }
   ],
   "source": [
    "import math\n",
    "a,b,c,d = int(input(\"X cord of first point:\")), int(input(\"Y cord of first point:\")), int(input(\"X cord of sec point:\")), int(input(\"Y cord of sec point:\"))\n",
    "distance = math.sqrt((a-c)**2+(b-d)**2)\n",
    "print(\"distance btw pts is: \",distance)"
   ]
  },
  {
   "cell_type": "markdown",
   "metadata": {},
   "source": [
    "#### Q2. wap to perform arithmatic operations of int float and complex"
   ]
  },
  {
   "cell_type": "code",
   "execution_count": 4,
   "metadata": {},
   "outputs": [
    {
     "name": "stdout",
     "output_type": "stream",
     "text": [
      "Which arithmetic operation you want to do:complex\n",
      "Enter first Complex num:\n",
      "Enter real no1\n",
      "Enter imag no2\n",
      "Enter Second Complex num:\n",
      "Enter real no1\n",
      "Enter imag no2\n",
      "Sum of Complexes (2+4j)\n"
     ]
    }
   ],
   "source": [
    "x = input(\"Which arithmetic operation you want to do:\")\n",
    "if x == 'int':\n",
    "    a,b = int(input(\"Enter num1:\")), int(input(\"Enter num2:\"))\n",
    "    print(\"Sum of integers: \",a+b)\n",
    "elif x=='float':\n",
    "    a,b = float(input(\"Enter num1:\")), float(input(\"Enter num1:\"))\n",
    "    print(\"Sum of floats: \", a+b)\n",
    "elif x=='complex':\n",
    "    \n",
    "    print(\"Enter first Complex num:\")\n",
    "    a,b = int(input(\"Enter real no\")), int(input(\"Enter imag no\"))\n",
    "    \n",
    "    print(\"Enter Second Complex num:\")\n",
    "    c,d = int(input(\"Enter real no\")), int(input(\"Enter imag no\"))\n",
    "\n",
    "    print(\"Sum of Complexes\", complex(a,b)+complex(c,d))"
   ]
  },
  {
   "cell_type": "markdown",
   "metadata": {},
   "source": [
    "#### Q3. wap print avg of 2 num and deviation from it"
   ]
  },
  {
   "cell_type": "code",
   "execution_count": 7,
   "metadata": {},
   "outputs": [
    {
     "name": "stdout",
     "output_type": "stream",
     "text": [
      "Enter num A:3\n",
      "Enter num B:5\n",
      "Average is 4.0\n",
      "Deviation 1.0\n"
     ]
    }
   ],
   "source": [
    "a,b = int(input(\"Enter num A:\")), int(input(\"Enter num B:\"))\n",
    "avg = (a+b)/2\n",
    "print(\"Average is\",avg)\n",
    "A = avg-a\n",
    "\n",
    "if A<0:\n",
    "    A = -(A)\n",
    "\n",
    "print(\"Deviation\", A)\n",
    "    "
   ]
  },
  {
   "cell_type": "markdown",
   "metadata": {},
   "source": [
    "#### Q4. wap calc bill for item given its quantity value, discount and tax"
   ]
  },
  {
   "cell_type": "code",
   "execution_count": 4,
   "metadata": {},
   "outputs": [
    {
     "name": "stdout",
     "output_type": "stream",
     "text": [
      "Enter the number of quantities:4\n",
      "Enter value:30\n",
      "Enter discount in percentage:5\n",
      "Enter Tax percentage:18\n",
      "your bill is: 134.52\n"
     ]
    }
   ],
   "source": [
    "quantity, value, discount, tax = int(input(\"Enter the number of quantities:\")), int(input(\"Enter value:\")), int(input(\"Enter discount in percentage:\")), int(input(\"Enter Tax percentage:\")) \n",
    "\n",
    "total_amt = quantity*value\n",
    "discount_amt = total_amt-(total_amt*discount/100)\n",
    "\n",
    "tax_amt = discount_amt*tax/100\n",
    "final_amt = discount_amt+tax_amt\n",
    "print(\"your bill is:\", final_amt)"
   ]
  },
  {
   "cell_type": "markdown",
   "metadata": {},
   "source": [
    "### 10. Conditional Statements and Loops:-<br> 'if' , 'elif', 'else', 'While', 'For'"
   ]
  },
  {
   "cell_type": "code",
   "execution_count": 17,
   "metadata": {},
   "outputs": [
    {
     "name": "stdout",
     "output_type": "stream",
     "text": [
      "\n",
      "**********\n",
      "**********\n",
      "**********\n",
      "**********\n",
      "**********"
     ]
    }
   ],
   "source": [
    "for i in range(5):\n",
    "    print()\n",
    "    for i in range(5):\n",
    "        print(\"*\", end=\"*\")"
   ]
  },
  {
   "cell_type": "code",
   "execution_count": 18,
   "metadata": {},
   "outputs": [],
   "source": [
    "## wap perform oct, binary, hex, conversion from decimal without using inbuilt func\n",
    "## and reverse of above ques"
   ]
  },
  {
   "cell_type": "code",
   "execution_count": 34,
   "metadata": {},
   "outputs": [
    {
     "name": "stdout",
     "output_type": "stream",
     "text": [
      "16\n",
      "2 0\n"
     ]
    }
   ],
   "source": [
    "num = int(input())\n",
    "b = []\n",
    "\n",
    "n=num\n",
    "while(n>0):\n",
    "    x = n%2\n",
    "    b.append(x)\n",
    "    n = n//2\n",
    "binary = b[::-1]\n",
    "print(*binary) # show list without comma and brackets\n",
    "\n",
    "\n",
    "n=num\n",
    "while(n>0):\n",
    "    x = n%8\n",
    "    b.append(x)\n",
    "    n = n//8\n",
    "binary = b[::-1]\n",
    "print(*binary) # show list without comma and brackets\n",
    "\n",
    " "
   ]
  },
  {
   "cell_type": "markdown",
   "metadata": {},
   "source": [
    "# Date:- 23 July 2019"
   ]
  },
  {
   "cell_type": "markdown",
   "metadata": {},
   "source": [
    "### Q. Accept string from the user and display only those chars at even index"
   ]
  },
  {
   "cell_type": "code",
   "execution_count": 1,
   "metadata": {},
   "outputs": [
    {
     "name": "stdout",
     "output_type": "stream",
     "text": [
      "nishitSingh\n",
      "nsiSnh\n"
     ]
    }
   ],
   "source": [
    "word = input()\n",
    "print(word[::2])"
   ]
  },
  {
   "cell_type": "markdown",
   "metadata": {},
   "source": [
    "### Q. Accept two int  values from user and return the product if product is greater than 1000 return sum"
   ]
  },
  {
   "cell_type": "code",
   "execution_count": 2,
   "metadata": {},
   "outputs": [
    {
     "name": "stdout",
     "output_type": "stream",
     "text": [
      "50\n",
      "61\n",
      "111\n"
     ]
    }
   ],
   "source": [
    "a,b = int(input(\"Enter a num\")), int(input(\"Enter a num\"))\n",
    "if a*b>1000:\n",
    "    print(\"Sum is:\"a+b)\n",
    "else:\n",
    "    print('product is':a*b)"
   ]
  },
  {
   "cell_type": "markdown",
   "metadata": {},
   "source": [
    "### Q. Given a string and int n remove char from string from 0 upto n and return  new string"
   ]
  },
  {
   "cell_type": "code",
   "execution_count": 4,
   "metadata": {},
   "outputs": [
    {
     "name": "stdout",
     "output_type": "stream",
     "text": [
      "Enter a string:asdfghjkl\n",
      "Enter the index:2\n",
      "dfghjkl\n"
     ]
    }
   ],
   "source": [
    "word, n = input(\"Enter a string:\"), int(input(\"Enter the index:\"))\n",
    "new_word = word[n:]\n",
    "print(new_word)"
   ]
  },
  {
   "cell_type": "markdown",
   "metadata": {},
   "source": [
    "### Q. Pattern making"
   ]
  },
  {
   "cell_type": "code",
   "execution_count": 6,
   "metadata": {},
   "outputs": [
    {
     "name": "stdout",
     "output_type": "stream",
     "text": [
      "\n",
      "1 \n",
      "2 2 \n",
      "3 3 3 \n",
      "4 4 4 4 \n",
      "5 5 5 5 5 "
     ]
    }
   ],
   "source": [
    "for i in range(1,6):\n",
    "    print()\n",
    "    for j in range(i):\n",
    "        print(i,end=\" \")"
   ]
  },
  {
   "cell_type": "markdown",
   "metadata": {},
   "source": [
    "### Q. String Palindrome"
   ]
  },
  {
   "cell_type": "code",
   "execution_count": 9,
   "metadata": {},
   "outputs": [
    {
     "name": "stdout",
     "output_type": "stream",
     "text": [
      "abcdedcba\n",
      "Yes String is a palindrome\n"
     ]
    }
   ],
   "source": [
    "word = input()\n",
    "if(word == word[::-1]):\n",
    "    print(\"Yes String is a palindrome\")\n",
    "else:\n",
    "    print(\"String is not a palindrome\")"
   ]
  },
  {
   "cell_type": "markdown",
   "metadata": {},
   "source": [
    "# Date 25/7/19"
   ]
  },
  {
   "cell_type": "markdown",
   "metadata": {},
   "source": [
    "### Q1. A company decides to give bonus, 5% bonus on salary of male, 10% bonus on female salary. Wap to calc bonus and total salary. Also if salary is less than 10000 an additional 2% is given"
   ]
  },
  {
   "cell_type": "code",
   "execution_count": 2,
   "metadata": {},
   "outputs": [
    {
     "name": "stdout",
     "output_type": "stream",
     "text": [
      "Enter the Salary:9000\n",
      "Enter Gender Male/Female:Female\n",
      "Total salary is: 10080.0\n",
      "Bonus is : 1080.0\n"
     ]
    }
   ],
   "source": [
    "salary, gen = int(input(\"Enter the Salary:\")), input(\"Enter Gender Male/Female:\")\n",
    "if gen == 'Female':\n",
    "    bonus = salary * 10 /100\n",
    "elif gen == 'Male':\n",
    "    bonus = salary * 5 /100\n",
    "if salary < 10000:\n",
    "    bonus += salary * 2 /100 \n",
    "print(\"Total salary is:\",salary+bonus)\n",
    "print(\"Bonus is :\",bonus)"
   ]
  },
  {
   "cell_type": "markdown",
   "metadata": {},
   "source": [
    "### Q2. wap to prompts a user to enter a num b/w 1-7 and display corresponding day of week"
   ]
  },
  {
   "cell_type": "code",
   "execution_count": 6,
   "metadata": {},
   "outputs": [
    {
     "name": "stdout",
     "output_type": "stream",
     "text": [
      "Enter a num between 1 and 7:5\n",
      "Friday\n"
     ]
    }
   ],
   "source": [
    "num = input(\"Enter a num between 1 and 7: \")\n",
    "if num == '1':\n",
    "    print(\"Monday\")\n",
    "elif num == '2':\n",
    "    print(\"Tuesday\")\n",
    "elif num == '3':\n",
    "    print(\"Wednesday\")\n",
    "elif num == '4':\n",
    "    print(\"Thursday\")\n",
    "elif num == '5':\n",
    "    print(\"Friday\")\n",
    "elif num == '6':\n",
    "    print(\"Saturday\")\n",
    "elif num == '7':\n",
    "    print(\"Sunday\")\n",
    "else:\n",
    "    print(\"Num not in range of 1 to 7\") "
   ]
  },
  {
   "cell_type": "markdown",
   "metadata": {},
   "source": [
    "### Q3. Take an input of char and check whether it is a vowel or not"
   ]
  },
  {
   "cell_type": "code",
   "execution_count": null,
   "metadata": {},
   "outputs": [],
   "source": [
    "c = input(\"Please enter an char: \")\n",
    "if len(c)>1:\n",
    "    print(\"Please enter an Char only\")\n",
    "else:\n",
    "    if c == 'a' or c == 'e' or c == 'i'or c == 'o'or c == 'u':\n",
    "        print(\"Yes char is a vowel\")\n",
    "    else:\n",
    "        print(\"Char is not a vowel\")"
   ]
  },
  {
   "cell_type": "markdown",
   "metadata": {},
   "source": [
    "### Q. wap to display sum and avg of first ten even numbers"
   ]
  },
  {
   "cell_type": "code",
   "execution_count": null,
   "metadata": {},
   "outputs": [],
   "source": [
    "i=2\n",
    "count = 0\n",
    "even = []\n",
    "while(len(even)<=10):\n",
    "    j=1\n",
    "    while(j<i):\n",
    "        if i%j == 0:\n",
    "            count += 1\n",
    "        j += 1\n",
    "    if count == 1:\n",
    "        even.append(i)\n",
    "    i += 1\n",
    "print(even)"
   ]
  },
  {
   "cell_type": "markdown",
   "metadata": {},
   "source": [
    "### Q. wap to display 20 stars in single row and a pattern of 4*5 stars"
   ]
  },
  {
   "cell_type": "code",
   "execution_count": 2,
   "metadata": {},
   "outputs": [
    {
     "name": "stdout",
     "output_type": "stream",
     "text": [
      "********************\n",
      "*****\n",
      "*****\n",
      "*****\n",
      "*****\n"
     ]
    }
   ],
   "source": [
    "print(\"*\"*20)\n",
    "i=0\n",
    "while(i<4):\n",
    "    print(\"*\"*5)\n",
    "    i += 1"
   ]
  },
  {
   "cell_type": "markdown",
   "metadata": {},
   "source": [
    "### Q. take the input of 2 numbers n,m form user and display sum starting from n to m"
   ]
  },
  {
   "cell_type": "code",
   "execution_count": 6,
   "metadata": {},
   "outputs": [
    {
     "name": "stdout",
     "output_type": "stream",
     "text": [
      "Enter no1: 2\n",
      "Enter no2: 10\n",
      "Numbers in between are:  2 3 4 5 6 7 8 9 10\n",
      "Sum is:  54\n"
     ]
    }
   ],
   "source": [
    "a,b = int(input(\"Enter no1: \")), int(input(\"Enter no2: \"))\n",
    "num = []\n",
    "s = 0\n",
    "while(a<=b):\n",
    "    num.append(a)\n",
    "    s += a\n",
    "    a += 1\n",
    "print(\"Numbers in between are: \" ,*num)\n",
    "print(\"Sum is: \",s)"
   ]
  },
  {
   "cell_type": "markdown",
   "metadata": {},
   "source": [
    "### Q. wap to read num until -1 is encountered and display num of postives negatives and 0"
   ]
  },
  {
   "cell_type": "code",
   "execution_count": 11,
   "metadata": {},
   "outputs": [
    {
     "name": "stdout",
     "output_type": "stream",
     "text": [
      "5454\n",
      "9\n",
      "-1\n",
      "[5454, 9, -1]\n",
      "Num of positives are:  2\n",
      "Num of negatives are:  0\n",
      "Num of zeros are:  0\n"
     ]
    }
   ],
   "source": [
    "l = []\n",
    "i=0\n",
    "while(i != -1):\n",
    "    i = int(input())\n",
    "    l.append(i)\n",
    "\n",
    "print(l[:-1])\n",
    "\n",
    "pos = 0\n",
    "nega = 0\n",
    "zero = 0\n",
    "i=0\n",
    "while(i<=len(l)-2):\n",
    "    if l[i]>0:\n",
    "        pos += 1\n",
    "    elif l[i]<0:\n",
    "        nega += 1\n",
    "    elif l[i]==0:\n",
    "        zero += 1\n",
    "    i += 1\n",
    "    \n",
    "print(\"Num of positives are: \",pos)\n",
    "print(\"Num of negatives are: \",nega)\n",
    "print(\"Num of zeros are: \",zero)"
   ]
  },
  {
   "cell_type": "markdown",
   "metadata": {},
   "source": [
    "### Q. take input of decimal with out using hex func"
   ]
  },
  {
   "cell_type": "code",
   "execution_count": 13,
   "metadata": {},
   "outputs": [
    {
     "name": "stdout",
     "output_type": "stream",
     "text": [
      "55\n",
      "3 7\n"
     ]
    }
   ],
   "source": [
    "d = int(input())\n",
    "l = []\n",
    "while(d>0):\n",
    "    rem = d%16\n",
    "    l.append(rem)\n",
    "    d = d//16\n",
    "print(*l[::-1])"
   ]
  },
  {
   "cell_type": "markdown",
   "metadata": {},
   "source": [
    "### Q. wap until * is encountered also count upper case lower case "
   ]
  },
  {
   "cell_type": "markdown",
   "metadata": {},
   "source": [
    "###  Q. take input of num and cal sum of digit"
   ]
  },
  {
   "cell_type": "code",
   "execution_count": 14,
   "metadata": {},
   "outputs": [
    {
     "name": "stdout",
     "output_type": "stream",
     "text": [
      "1234\n",
      "Sum of digits is:  10\n"
     ]
    }
   ],
   "source": [
    "n = int(input())\n",
    "s=0\n",
    "while(n>0):\n",
    "    l = n%10\n",
    "    s += l\n",
    "    n = n//10\n",
    "print(\"Sum of digits is: \", s)"
   ]
  },
  {
   "cell_type": "markdown",
   "metadata": {},
   "source": [
    "### Q. cal greatest common diviser of a num"
   ]
  },
  {
   "cell_type": "code",
   "execution_count": 20,
   "metadata": {},
   "outputs": [
    {
     "name": "stdout",
     "output_type": "stream",
     "text": [
      "Enter num1: 2\n",
      "Enter num2: 4\n",
      "Hcf is: 2\n"
     ]
    }
   ],
   "source": [
    "x,y = int(input(\"Enter num1: \")), int(input(\"Enter num2: \"))\n",
    "\n",
    "if x > y:\n",
    "    smaller = y\n",
    "else:\n",
    "    smaller = x\n",
    "i=1\n",
    "while(i< smaller+1):\n",
    "    if((x % i == 0) and (y % i == 0)):\n",
    "        hcf = i\n",
    "    i += 1   \n",
    "print(\"Hcf is:\", hcf)"
   ]
  },
  {
   "cell_type": "markdown",
   "metadata": {},
   "source": [
    "### Q. reverse a num"
   ]
  },
  {
   "cell_type": "code",
   "execution_count": 21,
   "metadata": {},
   "outputs": [
    {
     "name": "stdout",
     "output_type": "stream",
     "text": [
      "1234\n",
      "Reverse is:  4321\n"
     ]
    }
   ],
   "source": [
    "num = input()\n",
    "print(\"Reverse is: \",num[::-1])"
   ]
  },
  {
   "cell_type": "markdown",
   "metadata": {},
   "source": [
    "### Q. find factorial and composite and prime using for loop"
   ]
  },
  {
   "cell_type": "markdown",
   "metadata": {},
   "source": [
    "### Q. wap to display all leap years 1900 to 2101"
   ]
  },
  {
   "cell_type": "markdown",
   "metadata": {},
   "source": [
    "### Q. cal the sum of series 1/1sq +1/2sq + 1/3sq + 1/nsq"
   ]
  },
  {
   "cell_type": "markdown",
   "metadata": {},
   "source": [
    "### Q. cal the sum of sq of even num less than n"
   ]
  },
  {
   "cell_type": "markdown",
   "metadata": {},
   "source": [
    "### Q. print the following partter 121 "
   ]
  },
  {
   "cell_type": "code",
   "execution_count": null,
   "metadata": {},
   "outputs": [],
   "source": []
  }
 ],
 "metadata": {
  "kernelspec": {
   "display_name": "Python 3",
   "language": "python",
   "name": "python3"
  },
  "language_info": {
   "codemirror_mode": {
    "name": "ipython",
    "version": 3
   },
   "file_extension": ".py",
   "mimetype": "text/x-python",
   "name": "python",
   "nbconvert_exporter": "python",
   "pygments_lexer": "ipython3",
   "version": "3.6.8"
  }
 },
 "nbformat": 4,
 "nbformat_minor": 2
}
