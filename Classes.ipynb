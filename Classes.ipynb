{
 "cells": [
  {
   "cell_type": "markdown",
   "metadata": {},
   "source": [
    "# Classes"
   ]
  },
  {
   "cell_type": "markdown",
   "metadata": {},
   "source": [
    "### Q. Wap that uses classes to store the name and marks of students use list to store makes in 3 subjects"
   ]
  },
  {
   "cell_type": "code",
   "execution_count": 2,
   "metadata": {},
   "outputs": [
    {
     "name": "stdout",
     "output_type": "stream",
     "text": [
      "alan\n",
      "(98, 65, 86)\n"
     ]
    }
   ],
   "source": [
    "class data:\n",
    "    marks = []\n",
    "    def __init__(self, name, *marks):\n",
    "        self.name = name\n",
    "        self.marks = marks\n",
    "\n",
    "p1 = data('alan',98,65,86)\n",
    "\n",
    "print(p1.name)\n",
    "print(p1.marks)\n",
    "\n",
    "    "
   ]
  },
  {
   "cell_type": "markdown",
   "metadata": {},
   "source": [
    "**Note: Access a private member of a class outside in main\n",
    "`object._Classname__private-member`**"
   ]
  },
  {
   "cell_type": "markdown",
   "metadata": {},
   "source": [
    "## Some special func of Class:"
   ]
  },
  {
   "cell_type": "markdown",
   "metadata": {},
   "source": [
    "- `def __repr__()` This method is a built in func, it returns a string representation it works on any kind of object not only class's\n",
    "- `def __cmp__()` It is used to compare 2 python objects based on equality operator\n",
    "- `def __len__()` called in implementation of len()\n",
    "- `def __setitem(self, index, value)` Its is used to set item to an index value\n",
    "- `def __getitem__(self, index)` It is used to return a value of the index"
   ]
  },
  {
   "cell_type": "markdown",
   "metadata": {},
   "source": [
    "## Built in Class methods"
   ]
  },
  {
   "cell_type": "markdown",
   "metadata": {},
   "source": [
    "**These are already defined and can be called directly(NOT METHOD OF A CLASS):-**\n",
    "\n",
    "- `hasattr(obj, attr)`\n",
    "- `getattr(obj, name)`\n",
    "- `setattr(obj, name, key)`\n",
    "- `delattr()`"
   ]
  },
  {
   "cell_type": "markdown",
   "metadata": {},
   "source": [
    "## Built in Class attributes"
   ]
  },
  {
   "cell_type": "markdown",
   "metadata": {},
   "source": [
    "- `obj.__dict__` returns a dict of variables\n",
    "- `obj.__doc__` return the doc string of class\n",
    "- `obj.__bases__` returns the base class that is involved in that chain\n",
    "- `obj.__module__` use for retrieving the module where the function was defined, either to read the source code or sometimes to re-import it in a script.\n",
    "- `obj.__name__` returns name of class"
   ]
  },
  {
   "cell_type": "markdown",
   "metadata": {},
   "source": [
    "### Class method: \n",
    "**It is used when we operate on class variables these methods take class as the first arguments and instead of self they are called by class not object.\n",
    "They are defined and declared by adding a decorator `@class method` and the first arg is always cls**\n",
    "\n",
    "### Static methods:\n",
    "**They operate at class level and are defined by using `@staticmethod` inside the class but do not take cls or self. They do not automatically pass anything and behave as regular func except that they in a class\n",
    "They are used when some processing is related to the class but do not need the class or its instances to perform any work.**"
   ]
  },
  {
   "cell_type": "markdown",
   "metadata": {},
   "source": [
    "## Questions"
   ]
  },
  {
   "cell_type": "markdown",
   "metadata": {},
   "source": [
    "### Q. Wap that has a class student which stores rollno names and marks in 3 subjects taking all components of class as private members display info of 2 students of class \n",
    "1. use built in attributes to display the class related \n",
    "2. create a display func which shows sum and average marks of students also take class_avg class variable to maintain avg score of the class display the same after creation of each instance"
   ]
  },
  {
   "cell_type": "code",
   "execution_count": 36,
   "metadata": {},
   "outputs": [
    {
     "name": "stdout",
     "output_type": "stream",
     "text": [
      "alan\n",
      "619\n",
      "(98, 65, 86)\n",
      "\n",
      "Sum is: 249\n",
      "Avg is: 83.0\n",
      "Class avg is: 83.0\n",
      "\n",
      "alex\n",
      "916\n",
      "(89, 56, 68)\n",
      "\n",
      "Sum is: 213\n",
      "Avg is: 71.0\n",
      "Class avg is: 71.0\n",
      "\n"
     ]
    }
   ],
   "source": [
    "class student:\n",
    "    class_avg = 0\n",
    "    def __init__(self ,name ,rollno ,*marks):\n",
    "        self.__name = name\n",
    "        self.__rollno = rollno\n",
    "        self.__marks = marks\n",
    "        \n",
    "        \n",
    "    def display(self):\n",
    "        print(\"Sum is:\", sum(self.__marks))\n",
    "        self.avg = sum(self.__marks)/len(self.__marks)\n",
    "        student.class_avg = self.avg\n",
    "        print(\"Avg is:\", self.avg)\n",
    "        print(\"Class avg is:\", student.class_avg)\n",
    "        print()\n",
    "    \n",
    "    def __repr__(self):\n",
    "        return \"{}\\n{}\\n{}\\n\".format(self.__name, self.__rollno,self. __marks)\n",
    "        \n",
    "\n",
    "p1 = student('alan',619 ,98,65,86)\n",
    "print(p1)\n",
    "p1.display()\n",
    "\n",
    "p2 = student('alex',916 ,89,56,68)\n",
    "print(p2)\n",
    "p2.display()"
   ]
  },
  {
   "cell_type": "markdown",
   "metadata": {},
   "source": [
    "### Q. wap to create a static method that counts the num of instances created for the class "
   ]
  },
  {
   "cell_type": "code",
   "execution_count": 18,
   "metadata": {},
   "outputs": [
    {
     "name": "stdout",
     "output_type": "stream",
     "text": [
      "1\n",
      "2\n",
      "3\n"
     ]
    }
   ],
   "source": [
    "class A:\n",
    "    c = 0\n",
    "    def __init__(self, a):\n",
    "        self.a = a\n",
    "        self.static()\n",
    "        \n",
    "    @staticmethod\n",
    "    def static():\n",
    "        A.c += 1\n",
    "        print(A.c)\n",
    "        \n",
    "a = A(1234)\n",
    "b = A(2345)\n",
    "c = A(3456)"
   ]
  },
  {
   "cell_type": "markdown",
   "metadata": {},
   "source": [
    "### Q. wap to create an employee class and make all the members of it accessable to another class called myclass and display the same"
   ]
  },
  {
   "cell_type": "code",
   "execution_count": 24,
   "metadata": {},
   "outputs": [
    {
     "name": "stdout",
     "output_type": "stream",
     "text": [
      "Enter a: 123\n",
      "Enter b: 456\n",
      "123 456\n"
     ]
    }
   ],
   "source": [
    "class employee:\n",
    "    def __init__(self,a,b):\n",
    "        self.a = a\n",
    "        self.b = b\n",
    "        \n",
    "class myclass:\n",
    "    def __init__(self):\n",
    "        self.obj = employee(input(\"Enter a: \"),input(\"Enter b: \"))\n",
    "        \n",
    "    def display(self):\n",
    "        print(self.obj.a,self.obj.b)\n",
    "\n",
    "o = myclass()\n",
    "o.display()"
   ]
  },
  {
   "cell_type": "markdown",
   "metadata": {},
   "source": [
    "### Q. wap that has a class fraction with attributes num and deno both private enter the value of attributes and print the simplified form __simplify() and __gcd() methods"
   ]
  },
  {
   "cell_type": "code",
   "execution_count": 33,
   "metadata": {},
   "outputs": [
    {
     "name": "stdout",
     "output_type": "stream",
     "text": [
      "gcd: 3\n",
      "3 / 2\n"
     ]
    }
   ],
   "source": [
    "import math;\n",
    "class fraction:\n",
    "        def __init__(self,num,deno):\n",
    "            self.__num=num\n",
    "            self.__deno=deno\n",
    "\n",
    "        def gcd(self):\n",
    "            self.__gcd=math.gcd(self.__num,self.__deno)\n",
    "            print(\"gcd:\",self.__gcd)\n",
    "        def simplify(self):\n",
    "            self.__num=self.__num//self.__gcd\n",
    "            self.__deno=self.__deno//self.__gcd\n",
    "            print(self.__num,\"/\",self.__deno)\n",
    "\n",
    "o=fraction(9,6)\n",
    "o.gcd()\n",
    "o.simplify()"
   ]
  },
  {
   "cell_type": "markdown",
   "metadata": {},
   "source": [
    "### Q. create a class which stores a string such as no of uppercase, lowercase, white spaces, vowels and consonants and use their specific display methods to show them."
   ]
  },
  {
   "cell_type": "code",
   "execution_count": 31,
   "metadata": {},
   "outputs": [
    {
     "name": "stdout",
     "output_type": "stream",
     "text": [
      "Upper case alphabets are:  ['I', 'N', 'O', 'J', 'N', 'U', 'N', 'D', 'O', 'I', 'J', 'D', 'N', 'C']\n",
      "Lower case alphabets are:  ['a', 'c', 'a', 'f', 'o', 'n', 'a', 'e', 'o', 'v', 'n', 'e', 'a', 'o', 'n', 'e', 's', 'f', 'n', 'c', 's', 'e', 'f', 'n', 'x', 'n', 'a', 'w', 'u', 'a', 's', 'n', 'c']\n",
      "No of white spaces are:  6\n",
      "Vowels are:  ['a', 'a', 'o', 'a', 'e', 'o', 'e', 'a', 'o', 'e', 'e', 'a', 'u', 'a']\n",
      "Consonants are:  ['c', 'f', 'n', ' ', 'v', 'n', 'I', 'N', 'O', 'J', ' ', 'N', 'U', 'N', 'D', 'n', 's', 'f', ' ', 'n', 'c', 's', 'f', 'n', ' ', 'O', 'I', 'J', 'D', 'x', 'n', ' ', 'w', 'N', 'C', ' ', 's', 'n', 'c']\n"
     ]
    }
   ],
   "source": [
    "class string:\n",
    "    \n",
    "    def __init__(self,s):\n",
    "        self.upper, self.lower, self.vowels, self.cons = [],[],[],[]\n",
    "        self.white = 0\n",
    "        self.s = s\n",
    "        self.v = [\"a\",\"e\",\"i\",\"o\",\"u\"]\n",
    "        for i in self.s:\n",
    "            if i == \" \":\n",
    "                self.white += 1\n",
    "            elif i == i.upper():\n",
    "                self.upper.append(i)\n",
    "            elif i == i.lower():\n",
    "                self.lower.append(i)\n",
    "                \n",
    "            if i in self.v:\n",
    "                self.vowels.append(i)\n",
    "            else:\n",
    "                self.cons.append(i)\n",
    "                \n",
    "    def upper1(self):\n",
    "        print(\"Upper case alphabets are: \",self.upper)\n",
    "    \n",
    "    def lower1(self):\n",
    "        print(\"Lower case alphabets are: \",self.lower)\n",
    "        \n",
    "    def whites1(self):\n",
    "        print(\"No of white spaces are: \",self.white)\n",
    "        \n",
    "    def vowels1(self):\n",
    "        print(\"Vowels are: \",self.vowels)\n",
    "        \n",
    "    def cons1(self):\n",
    "        print(\"Consonants are: \",self.cons)\n",
    "            \n",
    "\n",
    "s = string(\"acafonae ovneaoINOJ NUNDnesf ncsefn OIJDxna wuNC asnc\")\n",
    "s.upper1()\n",
    "s.lower1()\n",
    "s.whites1()\n",
    "s.vowels1()\n",
    "s.cons1()"
   ]
  },
  {
   "cell_type": "markdown",
   "metadata": {},
   "source": [
    "## Access class attributes outside class\n",
    "**it is possible  to create a inner class to refer to inner class we create a obj to inner class**<br>\n",
    "`innerclass_obj = Outerclass().innerclass()`"
   ]
  },
  {
   "cell_type": "markdown",
   "metadata": {},
   "source": [
    "## Constructor \n",
    "`def __init__(self)`<br>\n",
    "`def __new__(cls)`\n",
    "*(same work diff names)*"
   ]
  },
  {
   "cell_type": "markdown",
   "metadata": {},
   "source": [
    "### Q. wap to create a dob class within person class"
   ]
  },
  {
   "cell_type": "code",
   "execution_count": 14,
   "metadata": {},
   "outputs": [
    {
     "name": "stdout",
     "output_type": "stream",
     "text": [
      "This is person class\n",
      "This is dob Class\n",
      "==============================\n",
      "This is person class\n",
      "This is dob Class\n"
     ]
    }
   ],
   "source": [
    "class person:\n",
    "    def __init__(self):\n",
    "        print(\"This is person class\")\n",
    "        self.obj2 = self.dob()\n",
    "    \n",
    "    class dob:\n",
    "        def __init__(self):\n",
    "            print(\"This is dob Class\")\n",
    "            \n",
    "obj1 = person()\n",
    "#============================================\n",
    "print(\"=\"*30)\n",
    "#============================================\n",
    "#Method 2\n",
    "class person1:\n",
    "    def __init__(self):\n",
    "        print(\"This is person class\")\n",
    "    \n",
    "    class dob1:\n",
    "        def __init__(self):\n",
    "            print(\"This is dob Class\")\n",
    "            \n",
    "obj3 = person1().dob1()"
   ]
  },
  {
   "cell_type": "markdown",
   "metadata": {},
   "source": [
    "## Inhertance"
   ]
  },
  {
   "cell_type": "code",
   "execution_count": 4,
   "metadata": {},
   "outputs": [
    {
     "name": "stdout",
     "output_type": "stream",
     "text": [
      "name:  b \n",
      "age:  18 yrs\n",
      "percentage:  89 %\n"
     ]
    }
   ],
   "source": [
    "class person:\n",
    "    def __init__(self,name,age):\n",
    "        self.name = name\n",
    "        self.age = age\n",
    "        \n",
    "    def display(self):\n",
    "        print(\"name: \",self.name,\"\\nage: \",self.age,\"yrs\")\n",
    "#============================================================      \n",
    "class teacher(person):\n",
    "    def __init__(self,name,age,exp):\n",
    "        person.__init__(self,name,age)\n",
    "        self.exp = exp\n",
    "        \n",
    "    def display(self):\n",
    "        person.display(self)\n",
    "        print(\"exp: \",self.exp,\"yrs\")\n",
    "#============================================================\n",
    "        \n",
    "class student(person):\n",
    "    def __init__(self,name,age,per):\n",
    "        person.__init__(self,name,age)\n",
    "        self.per = per\n",
    "        \n",
    "    def display(self):\n",
    "        person.display(self)\n",
    "        print(\"percentage: \",self.per,\"%\")\n",
    "#============================================================\n",
    "        \n",
    "#main\n",
    "t1 = teacher('a',43,10)\n",
    "s = student('b',18,89)\n",
    "s.display()"
   ]
  },
  {
   "cell_type": "markdown",
   "metadata": {},
   "source": [
    "When we intantiate it firstly looks for its own `__init__` method but if it doesnt find it then it walks up the chain to parent class\n",
    "\n",
    "\n",
    "**If the specified attribute or method is not found in current class the search continues in dept first order without searching same class twice also in left to right order this is called *method resolution order***"
   ]
  },
  {
   "cell_type": "markdown",
   "metadata": {},
   "source": [
    "## Super function"
   ]
  },
  {
   "cell_type": "markdown",
   "metadata": {},
   "source": [
    "It is a built in method that contains super class methods.It is used to call super class methods or constructor from child class"
   ]
  },
  {
   "cell_type": "code",
   "execution_count": 17,
   "metadata": {},
   "outputs": [
    {
     "name": "stdout",
     "output_type": "stream",
     "text": [
      "B2\n",
      "B1\n",
      "D\n"
     ]
    }
   ],
   "source": [
    "class base1:\n",
    "    def __init__(self):\n",
    "        #super(base1,self).__init__() ##doest same thing\n",
    "        super().__init__()\n",
    "        print(\"B1\")\n",
    "        \n",
    "class base2:\n",
    "    def __init__(self):\n",
    "        #super(base2,self).__init__()\n",
    "        super().__init__()\n",
    "        print(\"B2\")\n",
    "        \n",
    "class derived(base1, base2):\n",
    "    def __init__(self):\n",
    "        #super(derived,self).__init__()\n",
    "        super().__init__()\n",
    "        print(\"D\")\n",
    "        \n",
    "c = derived()"
   ]
  },
  {
   "cell_type": "markdown",
   "metadata": {},
   "source": [
    "## Polymorphism (has 3 parts)"
   ]
  },
  {
   "cell_type": "markdown",
   "metadata": {},
   "source": [
    "### method overriding(done previously)\n",
    "### method overloading\n",
    "**Note:- Pyhon doesnt support method overloading**\n",
    "### operator overloading"
   ]
  },
  {
   "cell_type": "markdown",
   "metadata": {},
   "source": [
    "**diff btw inheritance and composition**"
   ]
  },
  {
   "cell_type": "markdown",
   "metadata": {},
   "source": [
    "**Inheritance**\n",
    "- Enables the base class by extending it\n",
    "- the derived class may overide the func to base class \n",
    "- the derived class may add data and func to base\n",
    "- inhertance represents a relationship i.e `class student(persons)`"
   ]
  },
  {
   "cell_type": "markdown",
   "metadata": {},
   "source": [
    "**composition**\n",
    "- it enables the class to contain objects of diff classes its members\n",
    "- the container class the cant alter the func\n",
    "- it cant add data or func\n",
    "- No relationship i.e `class 1 as class 2"
   ]
  },
  {
   "cell_type": "markdown",
   "metadata": {},
   "source": [
    "## Practice"
   ]
  },
  {
   "cell_type": "markdown",
   "metadata": {},
   "source": [
    "### Q. Write a menu driven program that keeps record of books and journal available in the library taking books as a class with attributes title, author and price and methods read and display. Taking the choice from user whether user wants to add a book or display a book perform these operations if any other invalid input is given print"
   ]
  },
  {
   "cell_type": "code",
   "execution_count": 1,
   "metadata": {},
   "outputs": [
    {
     "name": "stdout",
     "output_type": "stream",
     "text": [
      "Enter '1' for input, Enter '2' for display: 1\n",
      "Title: ti\n",
      "Author: aut\n",
      "Price: 123\n",
      "Enter '1' for input, Enter '2' for display: 1\n",
      "Title: poiuy\n",
      "Author: qwert\n",
      "Price: 123456789\n",
      "Enter '1' for input, Enter '2' for display: 2\n",
      "{'Title': 'ti', 'Author': 'aut', 'Price': '123'}\n",
      "{'Title': 'poiuy', 'Author': 'qwert', 'Price': '123456789'}\n",
      "Enter '1' for input, Enter '2' for display: 1\n",
      "Title: okok\n",
      "Author: lplplp\n",
      "Price: 33\n",
      "Enter '1' for input, Enter '2' for display: 2\n",
      "{'Title': 'ti', 'Author': 'aut', 'Price': '123'}\n",
      "{'Title': 'poiuy', 'Author': 'qwert', 'Price': '123456789'}\n",
      "{'Title': 'okok', 'Author': 'lplplp', 'Price': '33'}\n",
      "Enter '1' for input, Enter '2' for display: k\n",
      "Do you want to continue (y/n)maachhudale\n",
      "Enter '1' for input, Enter '2' for display: y\n",
      "Do you want to continue (y/n)y\n"
     ]
    }
   ],
   "source": [
    "class books:\n",
    "    def __init__(self):\n",
    "        self.di = dict()\n",
    "        self.read()\n",
    "        \n",
    "    def read(self):\n",
    "        self.di = {\"Title\":input(\"Title: \"),\n",
    "              \"Author\":input(\"Author: \"),\n",
    "               \"Price\":input(\"Price: \")}\n",
    "        \n",
    "    def display(self):\n",
    "        print(self.di,end=\"\\n\")\n",
    "     \n",
    "    \n",
    "    \n",
    "     \n",
    "\n",
    "l = []\n",
    "while True:\n",
    "    c = input(\"Enter '1' for input, Enter '2' for display: \")\n",
    "    \n",
    "    if c == '1':\n",
    "        l.append(books())\n",
    "        \n",
    "    elif c == '2':\n",
    "        for i in l:\n",
    "            i.display()\n",
    "            \n",
    "    else:\n",
    "        x = input(\"Do you want to continue (y/n)\")\n",
    "        if x == 'y':\n",
    "            break\n",
    "        "
   ]
  },
  {
   "cell_type": "markdown",
   "metadata": {},
   "source": [
    "### Q. wap that uses time structure within a class Enter any time and your fav shows time the program must display how much time is left to start"
   ]
  },
  {
   "cell_type": "code",
   "execution_count": null,
   "metadata": {},
   "outputs": [],
   "source": []
  },
  {
   "cell_type": "markdown",
   "metadata": {},
   "source": [
    "### Q. wap that has a class person that inherit a class faculty from person which also has class publications"
   ]
  },
  {
   "cell_type": "code",
   "execution_count": null,
   "metadata": {},
   "outputs": [],
   "source": []
  },
  {
   "cell_type": "markdown",
   "metadata": {},
   "source": [
    "### Q. if the link btw 2 objs is weak if is called (mcq)\n",
    "- inheritance\n",
    "- aggregation\n",
    "- containership\n",
    "- composition\n",
    "\n",
    "read what is meta class"
   ]
  },
  {
   "cell_type": "code",
   "execution_count": null,
   "metadata": {},
   "outputs": [],
   "source": []
  },
  {
   "cell_type": "markdown",
   "metadata": {},
   "source": [
    "### Q. Wap using method overwriting where a class is inherited by 3 var  design the following:- <br>1. Same name func override all base class func <br>2. First parents func override child func  <br>3. Third parents func should override all parents"
   ]
  },
  {
   "cell_type": "code",
   "execution_count": null,
   "metadata": {},
   "outputs": [],
   "source": []
  },
  {
   "cell_type": "markdown",
   "metadata": {},
   "source": []
  }
 ],
 "metadata": {
  "kernelspec": {
   "display_name": "Python 3",
   "language": "python",
   "name": "python3"
  },
  "language_info": {
   "codemirror_mode": {
    "name": "ipython",
    "version": 3
   },
   "file_extension": ".py",
   "mimetype": "text/x-python",
   "name": "python",
   "nbconvert_exporter": "python",
   "pygments_lexer": "ipython3",
   "version": "3.6.8"
  }
 },
 "nbformat": 4,
 "nbformat_minor": 2
}
