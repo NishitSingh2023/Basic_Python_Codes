{
 "cells": [
  {
   "cell_type": "markdown",
   "metadata": {},
   "source": [
    "### Q. maths teacher has given a task to generate a histogram from given list of integers. take input of char using which histogram is to be produced"
   ]
  },
  {
   "cell_type": "code",
   "execution_count": 2,
   "metadata": {},
   "outputs": [
    {
     "name": "stdout",
     "output_type": "stream",
     "text": [
      "Enter num of elements in list: 5\n",
      "Enter num: 3\n",
      "Enter num: 21\n",
      "Enter num: 6\n",
      "Enter num: 8\n",
      "Enter num: 9\n",
      "Enter a char value: #\n",
      "###\n",
      "#####################\n",
      "######\n",
      "########\n",
      "#########\n"
     ]
    }
   ],
   "source": [
    "l = [int(input(\"Enter num: \")) for i in range(int(input(\"Enter num of elements in list: \")))]\n",
    "ch = input(\"Enter a char value: \")\n",
    "for i in l:\n",
    "    print(i*ch) "
   ]
  },
  {
   "cell_type": "markdown",
   "metadata": {},
   "source": [
    "### Q. write a python program to find unique triplets whose sum of elements is 0 "
   ]
  },
  {
   "cell_type": "code",
   "execution_count": null,
   "metadata": {},
   "outputs": [],
   "source": [
    "import random as r\n",
    "l = [r.randint(-10,10) for i in range(10)]"
   ]
  },
  {
   "cell_type": "markdown",
   "metadata": {},
   "source": [
    "### Q. wap that execpts a seq of comma sep 4 digit bin num as an input and check whether they are divisible by 5 or not. The num divisible by 5 are to be print comma sep"
   ]
  },
  {
   "cell_type": "code",
   "execution_count": 21,
   "metadata": {},
   "outputs": [
    {
     "name": "stdout",
     "output_type": "stream",
     "text": [
      "Enter values: 0100,1010,0011,1001\n",
      "1010,"
     ]
    }
   ],
   "source": [
    "l = input(\"Enter values: \").split(\",\")\n",
    "for i in l:\n",
    "    if int(i,2)%5==0:\n",
    "         print(i,end=\",\")         "
   ]
  },
  {
   "cell_type": "code",
   "execution_count": 25,
   "metadata": {},
   "outputs": [
    {
     "name": "stdout",
     "output_type": "stream",
     "text": [
      "s=HI\n",
      "n=8\n",
      "m=3\n",
      "HI________\n"
     ]
    }
   ],
   "source": [
    "s = input(\"s=\")\n",
    "n = int(input(\"n=\"))\n",
    "m = int(input(\"m=\"))\n",
    "if len(s)<m:\n",
    "    print(s+\"_\"*n)\n",
    "else:\n",
    "    print(s[:m]*n)"
   ]
  },
  {
   "cell_type": "markdown",
   "metadata": {},
   "source": [
    "### Q. Using nested list of tuples to store topper details edit the details and reprint them taking default value as : ask if edit is needed :<br>Enter the name of student whose details are to be edited then take the input then display the final list"
   ]
  },
  {
   "cell_type": "code",
   "execution_count": 8,
   "metadata": {},
   "outputs": [
    {
     "name": "stdout",
     "output_type": "stream",
     "text": [
      "Enter the num of students: 1\n",
      "abc\n",
      "cse\n",
      "91\n",
      "('abc', 'cse', '91')\n",
      "Enter 'YES' to edit: yes\n",
      "Enter name to edit: abc\n",
      "Enter new name: def\n",
      "Enter new stream: cse\n",
      "Enter new marks: 98\n",
      "('def', 'cse', '98')\n"
     ]
    }
   ],
   "source": [
    "topper = [tuple([input() for i in range(3)]) for i in range(int(input(\"Enter the num of students: \")))]\n",
    "print(*topper ,end=\"\\n\")\n",
    "\n",
    "if input(\"Enter 'YES' to edit: \").lower()=='yes':\n",
    "    name = input(\"Enter name to edit: \")\n",
    "    for i in topper:\n",
    "        if i[0]==name:\n",
    "            l=list(i)\n",
    "            topper.remove(i)\n",
    "            l[0] = input(\"Enter new name: \")\n",
    "            l[1] = input(\"Enter new stream: \")\n",
    "            l[2] = input(\"Enter new marks: \")\n",
    "            topper.append(tuple(l))\n",
    "        else:\n",
    "            print(\"name not in list\")\n",
    "    print(*topper ,end=\"\\n\")\n"
   ]
  },
  {
   "cell_type": "markdown",
   "metadata": {},
   "source": [
    "### Q. You are required to wap to sort the name,age,height tuple by acending order sorting is to done:<br> 1. sort based on name<br> 2. sort based on age<br> 3. sort based on height"
   ]
  },
  {
   "cell_type": "code",
   "execution_count": 14,
   "metadata": {},
   "outputs": [
    {
     "name": "stdout",
     "output_type": "stream",
     "text": [
      "Enter the num of students: 3\n",
      "Enter name: abc\n",
      "Enter age:19\n",
      "Enter height:179\n",
      "Enter name: lkj\n",
      "Enter age:12\n",
      "Enter height:150\n",
      "Enter name: def\n",
      "Enter age:20\n",
      "Enter height:180\n",
      "Sorted by name:  [('abc', 19, 179), ('def', 20, 180), ('lkj', 12, 150)]\n",
      "Sorted by age:  [('lkj', 12, 150), ('abc', 19, 179), ('def', 20, 180)]\n",
      "Sorted by height:  [('lkj', 12, 150), ('abc', 19, 179), ('def', 20, 180)]\n"
     ]
    }
   ],
   "source": [
    "#l = [tuple(input().split()) for i in range(int(input(\"Enter the num of students: \")))]\n",
    "l=[]\n",
    "for i in range(int(input(\"Enter the num of students: \"))):\n",
    "    name = input(\"Enter name: \")\n",
    "    age = int(input(\"Enter age:\"))\n",
    "    height = int(input(\"Enter height:\"))\n",
    "    t = [name,age,height]\n",
    "    l.append(tuple(t))\n",
    "\n",
    "print(\"Sorted by name: \",sorted(l ,key = lambda x : x[0]))\n",
    "\n",
    "print(\"Sorted by age: \",sorted(l ,key = lambda x : x[1]))\n",
    "\n",
    "print(\"Sorted by height: \",sorted(l ,key = lambda x : x[2]))\n"
   ]
  },
  {
   "cell_type": "markdown",
   "metadata": {},
   "source": [
    "### Q. Taking input of a default paragraph print frequency of each word "
   ]
  },
  {
   "cell_type": "code",
   "execution_count": 16,
   "metadata": {},
   "outputs": [
    {
     "name": "stdout",
     "output_type": "stream",
     "text": [
      "abc abc abc abc def def qwe qwe qwe asd pof\n",
      "Freq of  abc  is:  4\n",
      "Freq of  qwe  is:  3\n",
      "Freq of  asd  is:  1\n",
      "Freq of  def  is:  2\n",
      "Freq of  pof  is:  1\n"
     ]
    }
   ],
   "source": [
    "#s = \"\"\n",
    "s = input()\n",
    "l = s.split()\n",
    "unq = set(l)\n",
    "\n",
    "for i in unq:\n",
    "    print(\"Freq of \",i,\" is: \",l.count(i))"
   ]
  },
  {
   "cell_type": "markdown",
   "metadata": {},
   "source": [
    "### Q. wap to add an item in a tuple"
   ]
  },
  {
   "cell_type": "code",
   "execution_count": 9,
   "metadata": {},
   "outputs": [
    {
     "name": "stdout",
     "output_type": "stream",
     "text": [
      "Enter the item to add: 6\n",
      "Enter the index: 2\n",
      "(1, 2, 6, 3, 4, 5)\n"
     ]
    }
   ],
   "source": [
    "t = (1,2,3,4,5)\n",
    "x, idx = int(input(\"Enter the item to add: \")), int(input(\"Enter the index: \")) \n",
    "l = list(t)\n",
    "l.insert(idx,x)\n",
    "print(tuple(l))"
   ]
  },
  {
   "cell_type": "markdown",
   "metadata": {},
   "source": [
    "### Q. wap to print a tuple with string formatting "
   ]
  },
  {
   "cell_type": "code",
   "execution_count": 14,
   "metadata": {},
   "outputs": [
    {
     "name": "stdout",
     "output_type": "stream",
     "text": [
      "This is a tuple: (100, 200, 300)\n"
     ]
    }
   ],
   "source": [
    "t = (100,200,300)\n",
    "print(\"This is a tuple: {}\".format(t))"
   ]
  },
  {
   "cell_type": "markdown",
   "metadata": {},
   "source": [
    "### Q. calculate size of list vs tuple"
   ]
  },
  {
   "cell_type": "code",
   "execution_count": 17,
   "metadata": {},
   "outputs": [
    {
     "name": "stdout",
     "output_type": "stream",
     "text": [
      "Length of list:  20  And Length of tuple:  16\n"
     ]
    }
   ],
   "source": [
    "t = (1,2,56,89,51,546,5,47,7,84,2,4684,51,5,887,5)\n",
    "l = [4,6,454,5,488,78,4,4,6,43,135,465,1,13,45,12,1,54,665,12]\n",
    "\n",
    "print(\"Length of list: \",len(l),\" And Length of tuple: \",len(t))"
   ]
  },
  {
   "cell_type": "code",
   "execution_count": null,
   "metadata": {},
   "outputs": [],
   "source": []
  }
 ],
 "metadata": {
  "kernelspec": {
   "display_name": "Python 3",
   "language": "python",
   "name": "python3"
  },
  "language_info": {
   "codemirror_mode": {
    "name": "ipython",
    "version": 3
   },
   "file_extension": ".py",
   "mimetype": "text/x-python",
   "name": "python",
   "nbconvert_exporter": "python",
   "pygments_lexer": "ipython3",
   "version": "3.6.8"
  }
 },
 "nbformat": 4,
 "nbformat_minor": 2
}
