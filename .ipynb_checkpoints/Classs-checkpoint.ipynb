{
 "cells": [
  {
   "cell_type": "markdown",
   "metadata": {},
   "source": [
    "### Q. given a string exract email from the text"
   ]
  },
  {
   "cell_type": "code",
   "execution_count": 13,
   "metadata": {},
   "outputs": [
    {
     "name": "stdout",
     "output_type": "stream",
     "text": [
      "sszfdxfghjm vcxswdfbb n111@gmail.com ac1234@chitkara.edu.in\n",
      "['n111@gmail.com', 'ac1234@chitkara.edu.in']\n"
     ]
    }
   ],
   "source": [
    "import re\n",
    "line = input()\n",
    "s = \"\\S+@\\S+\"\n",
    "x = re.findall(s,line)\n",
    "print(x)"
   ]
  },
  {
   "cell_type": "markdown",
   "metadata": {},
   "source": [
    "### Q. wap to match string (atleast 1 digit followed by blank) then abitrary "
   ]
  },
  {
   "cell_type": "code",
   "execution_count": null,
   "metadata": {},
   "outputs": [],
   "source": []
  },
  {
   "cell_type": "markdown",
   "metadata": {},
   "source": [
    "### Q. extract each word from string using regex"
   ]
  },
  {
   "cell_type": "code",
   "execution_count": 20,
   "metadata": {},
   "outputs": [
    {
     "name": "stdout",
     "output_type": "stream",
     "text": [
      "hi my name is nishit\n",
      "['hi', 'my', 'name', 'is', 'nishit']\n"
     ]
    }
   ],
   "source": [
    "import re\n",
    "line = input()\n",
    "s = \"\\w+\"\n",
    "x = re.findall(s,line)\n",
    "print(x)"
   ]
  },
  {
   "cell_type": "markdown",
   "metadata": {},
   "source": [
    "### Q. given a multi line string exract first word of each line"
   ]
  },
  {
   "cell_type": "code",
   "execution_count": null,
   "metadata": {},
   "outputs": [],
   "source": [
    "import re\n",
    "line = Rinput()\n",
    "s = \"\\w+\"\n",
    "x = re.findall(s,line)\n",
    "print(x)"
   ]
  }
 ],
 "metadata": {
  "kernelspec": {
   "display_name": "Python 3",
   "language": "python",
   "name": "python3"
  },
  "language_info": {
   "codemirror_mode": {
    "name": "ipython",
    "version": 3
   },
   "file_extension": ".py",
   "mimetype": "text/x-python",
   "name": "python",
   "nbconvert_exporter": "python",
   "pygments_lexer": "ipython3",
   "version": "3.6.8"
  }
 },
 "nbformat": 4,
 "nbformat_minor": 2
}
