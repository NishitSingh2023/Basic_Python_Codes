{
 "cells": [
  {
   "cell_type": "markdown",
   "metadata": {},
   "source": [
    "### Q. maths teacher has given a task to generate a histogram from given list of integers. take input of char using which histogram is to be produced"
   ]
  },
  {
   "cell_type": "code",
   "execution_count": 2,
   "metadata": {},
   "outputs": [
    {
     "name": "stdout",
     "output_type": "stream",
     "text": [
      "Enter num of elements in list: 5\n",
      "Enter num: 3\n",
      "Enter num: 21\n",
      "Enter num: 6\n",
      "Enter num: 8\n",
      "Enter num: 9\n",
      "Enter a char value: #\n",
      "###\n",
      "#####################\n",
      "######\n",
      "########\n",
      "#########\n"
     ]
    }
   ],
   "source": [
    "l = [int(input(\"Enter num: \")) for i in range(int(input(\"Enter num of elements in list: \")))]\n",
    "ch = input(\"Enter a char value: \")\n",
    "for i in l:\n",
    "    print(i*ch) "
   ]
  },
  {
   "cell_type": "markdown",
   "metadata": {},
   "source": [
    "### Q. write a python program to find unique triplets whose sum of elements is 0 "
   ]
  },
  {
   "cell_type": "code",
   "execution_count": null,
   "metadata": {},
   "outputs": [],
   "source": [
    "import random as r\n",
    "l = [r.randint(-10,10) for i in range(10)]\n",
    "l1 = []\n"
   ]
  },
  {
   "cell_type": "markdown",
   "metadata": {},
   "source": [
    "### Q. wap that execpts a seq of comma sep 4 digit bin num as an input and check whether they are divisible by 5 or not. The num divisible by 5 are to be print comma sep"
   ]
  },
  {
   "cell_type": "code",
   "execution_count": 21,
   "metadata": {},
   "outputs": [
    {
     "name": "stdout",
     "output_type": "stream",
     "text": [
      "Enter values: 0100,1010,0011,1001\n",
      "1010,"
     ]
    }
   ],
   "source": [
    "l = input(\"Enter values: \").split(\",\")\n",
    "for i in l:\n",
    "    if int(i,2)%5==0:\n",
    "         print(i,end=\",\")         "
   ]
  },
  {
   "cell_type": "code",
   "execution_count": 25,
   "metadata": {},
   "outputs": [
    {
     "name": "stdout",
     "output_type": "stream",
     "text": [
      "s=HI\n",
      "n=8\n",
      "m=3\n",
      "HI________\n"
     ]
    }
   ],
   "source": [
    "s = input(\"s=\")\n",
    "n = int(input(\"n=\"))\n",
    "m = int(input(\"m=\"))\n",
    "if len(s)<m:\n",
    "    print(s+\"_\"*n)\n",
    "else:\n",
    "    print(s[:m]*n)"
   ]
  }
 ],
 "metadata": {
  "kernelspec": {
   "display_name": "Python 3",
   "language": "python",
   "name": "python3"
  },
  "language_info": {
   "codemirror_mode": {
    "name": "ipython",
    "version": 3
   },
   "file_extension": ".py",
   "mimetype": "text/x-python",
   "name": "python",
   "nbconvert_exporter": "python",
   "pygments_lexer": "ipython3",
   "version": "3.6.8"
  }
 },
 "nbformat": 4,
 "nbformat_minor": 2
}
