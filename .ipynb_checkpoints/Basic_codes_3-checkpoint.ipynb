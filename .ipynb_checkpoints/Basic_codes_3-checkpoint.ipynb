{
 "cells": [
  {
   "cell_type": "markdown",
   "metadata": {},
   "source": [
    "### Q. maths teacher has given a task to generate a histogram from given list of integers. take input of char using which histogram is to be produced"
   ]
  },
  {
   "cell_type": "code",
   "execution_count": 2,
   "metadata": {},
   "outputs": [
    {
     "name": "stdout",
     "output_type": "stream",
     "text": [
      "Enter num of elements in list: 5\n",
      "Enter num: 3\n",
      "Enter num: 21\n",
      "Enter num: 6\n",
      "Enter num: 8\n",
      "Enter num: 9\n",
      "Enter a char value: #\n",
      "###\n",
      "#####################\n",
      "######\n",
      "########\n",
      "#########\n"
     ]
    }
   ],
   "source": [
    "l = [int(input(\"Enter num: \")) for i in range(int(input(\"Enter num of elements in list: \")))]\n",
    "ch = input(\"Enter a char value: \")\n",
    "for i in l:\n",
    "    print(i*ch) "
   ]
  },
  {
   "cell_type": "markdown",
   "metadata": {},
   "source": [
    "### Q. write a python program to find unique triplets whose sum of elements is 0 "
   ]
  },
  {
   "cell_type": "code",
   "execution_count": null,
   "metadata": {},
   "outputs": [],
   "source": [
    "import random as r\n",
    "l = [r.randint(-10,10) for i in range(10)]"
   ]
  },
  {
   "cell_type": "markdown",
   "metadata": {},
   "source": [
    "### Q. wap that execpts a seq of comma sep 4 digit bin num as an input and check whether they are divisible by 5 or not. The num divisible by 5 are to be print comma sep"
   ]
  },
  {
   "cell_type": "code",
   "execution_count": 21,
   "metadata": {},
   "outputs": [
    {
     "name": "stdout",
     "output_type": "stream",
     "text": [
      "Enter values: 0100,1010,0011,1001\n",
      "1010,"
     ]
    }
   ],
   "source": [
    "l = input(\"Enter values: \").split(\",\")\n",
    "for i in l:\n",
    "    if int(i,2)%5==0:\n",
    "         print(i,end=\",\")         "
   ]
  },
  {
   "cell_type": "code",
   "execution_count": 25,
   "metadata": {},
   "outputs": [
    {
     "name": "stdout",
     "output_type": "stream",
     "text": [
      "s=HI\n",
      "n=8\n",
      "m=3\n",
      "HI________\n"
     ]
    }
   ],
   "source": [
    "s = input(\"s=\")\n",
    "n = int(input(\"n=\"))\n",
    "m = int(input(\"m=\"))\n",
    "if len(s)<m:\n",
    "    print(s+\"_\"*n)\n",
    "else:\n",
    "    print(s[:m]*n)"
   ]
  },
  {
   "cell_type": "markdown",
   "metadata": {},
   "source": [
    "### Q. Using nested list of tuples to store topper details edit the details and reprint them taking default value as : ask if edit is needed :<br>Enter the name of student whose details are to be edited then take the input then display the final list"
   ]
  },
  {
   "cell_type": "code",
   "execution_count": 8,
   "metadata": {},
   "outputs": [
    {
     "name": "stdout",
     "output_type": "stream",
     "text": [
      "Enter the num of students: 1\n",
      "abc\n",
      "cse\n",
      "91\n",
      "('abc', 'cse', '91')\n",
      "Enter 'YES' to edit: yes\n",
      "Enter name to edit: abc\n",
      "Enter new name: def\n",
      "Enter new stream: cse\n",
      "Enter new marks: 98\n",
      "('def', 'cse', '98')\n"
     ]
    }
   ],
   "source": [
    "topper = [tuple([input() for i in range(3)]) for i in range(int(input(\"Enter the num of students: \")))]\n",
    "print(*topper ,end=\"\\n\")\n",
    "\n",
    "if input(\"Enter 'YES' to edit: \").lower()=='yes':\n",
    "    name = input(\"Enter name to edit: \")\n",
    "    for i in topper:\n",
    "        if i[0]==name:\n",
    "            l=list(i)\n",
    "            topper.remove(i)\n",
    "            l[0] = input(\"Enter new name: \")\n",
    "            l[1] = input(\"Enter new stream: \")\n",
    "            l[2] = input(\"Enter new marks: \")\n",
    "            topper.append(tuple(l))\n",
    "        else:\n",
    "            print(\"name not in list\")\n",
    "    print(*topper ,end=\"\\n\")\n"
   ]
  },
  {
   "cell_type": "markdown",
   "metadata": {},
   "source": [
    "### Q. You are required to wap to sort the name,age,height tuple by acending order sorting is to done:<br> 1. sort based on name<br> 2. sort based on age<br> 3. sort based on height"
   ]
  },
  {
   "cell_type": "code",
   "execution_count": 14,
   "metadata": {},
   "outputs": [
    {
     "name": "stdout",
     "output_type": "stream",
     "text": [
      "Enter the num of students: 3\n",
      "Enter name: abc\n",
      "Enter age:19\n",
      "Enter height:179\n",
      "Enter name: lkj\n",
      "Enter age:12\n",
      "Enter height:150\n",
      "Enter name: def\n",
      "Enter age:20\n",
      "Enter height:180\n",
      "Sorted by name:  [('abc', 19, 179), ('def', 20, 180), ('lkj', 12, 150)]\n",
      "Sorted by age:  [('lkj', 12, 150), ('abc', 19, 179), ('def', 20, 180)]\n",
      "Sorted by height:  [('lkj', 12, 150), ('abc', 19, 179), ('def', 20, 180)]\n"
     ]
    }
   ],
   "source": [
    "#l = [tuple(input().split()) for i in range(int(input(\"Enter the num of students: \")))]\n",
    "l=[]\n",
    "for i in range(int(input(\"Enter the num of students: \"))):\n",
    "    name = input(\"Enter name: \")\n",
    "    age = int(input(\"Enter age:\"))\n",
    "    height = int(input(\"Enter height:\"))\n",
    "    t = [name,age,height]\n",
    "    l.append(tuple(t))\n",
    "\n",
    "print(\"Sorted by name: \",sorted(l ,key = lambda x : x[0]))\n",
    "\n",
    "print(\"Sorted by age: \",sorted(l ,key = lambda x : x[1]))\n",
    "\n",
    "print(\"Sorted by height: \",sorted(l ,key = lambda x : x[2]))\n"
   ]
  },
  {
   "cell_type": "markdown",
   "metadata": {},
   "source": [
    "### Q. Taking input of a default paragraph print frequency of each word "
   ]
  },
  {
   "cell_type": "code",
   "execution_count": 16,
   "metadata": {},
   "outputs": [
    {
     "name": "stdout",
     "output_type": "stream",
     "text": [
      "abc abc abc abc def def qwe qwe qwe asd pof\n",
      "Freq of  abc  is:  4\n",
      "Freq of  qwe  is:  3\n",
      "Freq of  asd  is:  1\n",
      "Freq of  def  is:  2\n",
      "Freq of  pof  is:  1\n"
     ]
    }
   ],
   "source": [
    "#s = \"\"\n",
    "s = input()\n",
    "l = s.split()\n",
    "unq = set(l)\n",
    "\n",
    "for i in unq:\n",
    "    print(\"Freq of \",i,\" is: \",l.count(i))"
   ]
  },
  {
   "cell_type": "markdown",
   "metadata": {},
   "source": [
    "### Q. wap to add an item in a tuple"
   ]
  },
  {
   "cell_type": "code",
   "execution_count": 9,
   "metadata": {},
   "outputs": [
    {
     "name": "stdout",
     "output_type": "stream",
     "text": [
      "Enter the item to add: 6\n",
      "Enter the index: 2\n",
      "(1, 2, 6, 3, 4, 5)\n"
     ]
    }
   ],
   "source": [
    "t = (1,2,3,4,5)\n",
    "x, idx = int(input(\"Enter the item to add: \")), int(input(\"Enter the index: \")) \n",
    "l = list(t)\n",
    "l.insert(idx,x)\n",
    "print(tuple(l))"
   ]
  },
  {
   "cell_type": "markdown",
   "metadata": {},
   "source": [
    "### Q. wap to print a tuple with string formatting "
   ]
  },
  {
   "cell_type": "code",
   "execution_count": 14,
   "metadata": {},
   "outputs": [
    {
     "name": "stdout",
     "output_type": "stream",
     "text": [
      "This is a tuple: (100, 200, 300)\n"
     ]
    }
   ],
   "source": [
    "t = (100,200,300)\n",
    "print(\"This is a tuple: {}\".format(t))"
   ]
  },
  {
   "cell_type": "markdown",
   "metadata": {},
   "source": [
    "### Q. calculate size of list vs tuple"
   ]
  },
  {
   "cell_type": "code",
   "execution_count": 17,
   "metadata": {},
   "outputs": [
    {
     "name": "stdout",
     "output_type": "stream",
     "text": [
      "Length of list:  20  And Length of tuple:  16\n"
     ]
    }
   ],
   "source": [
    "t = (1,2,56,89,51,546,5,47,7,84,2,4684,51,5,887,5)\n",
    "l = [4,6,454,5,488,78,4,4,6,43,135,465,1,13,45,12,1,54,665,12]\n",
    "\n",
    "print(\"Length of list: \",len(l),\" And Length of tuple: \",len(t))"
   ]
  },
  {
   "cell_type": "markdown",
   "metadata": {},
   "source": [
    "### Q. wap is to check whether the 2 list are circularly identical"
   ]
  },
  {
   "cell_type": "code",
   "execution_count": 7,
   "metadata": {},
   "outputs": [
    {
     "name": "stdout",
     "output_type": "stream",
     "text": [
      "Yes\n"
     ]
    }
   ],
   "source": [
    "l1 = [1,2,3,4,5]\n",
    "l2 = [4,5,1,2,3]\n",
    "\n",
    "if ''.join(map(str, l2)) in ''.join(map(str, l1*2)):\n",
    "    print(\"Yes\")\n",
    "else:\n",
    "    print(\"No\")\n"
   ]
  },
  {
   "cell_type": "markdown",
   "metadata": {},
   "source": [
    "### Q. Wap to clone a copy a list and sum list"
   ]
  },
  {
   "cell_type": "code",
   "execution_count": 10,
   "metadata": {},
   "outputs": [
    {
     "name": "stdout",
     "output_type": "stream",
     "text": [
      "[1, 2, 3, 4, 5]\n",
      "Sum is 15\n"
     ]
    }
   ],
   "source": [
    "l1 = [1,2,3,4,5]\n",
    "l2=l1\n",
    "print(l2)\n",
    "print(\"Sum is\",sum(l2))"
   ]
  },
  {
   "cell_type": "code",
   "execution_count": 15,
   "metadata": {},
   "outputs": [
    {
     "name": "stdout",
     "output_type": "stream",
     "text": [
      "item1 : 1150 , item2 : 300\n"
     ]
    }
   ],
   "source": [
    "d1, d2, d3 = {'item':'item1', 'amount':400}, {'item':'item2', 'amount':300}, {'item':'item3', 'amount':750}\n",
    "d1['amount'] += max(d1['amount'], d2['amount'], d3['amount'])\n",
    "print(d1['item'],\":\",d1['amount'],\",\",d2['item'],\":\",d2['amount'])"
   ]
  },
  {
   "cell_type": "markdown",
   "metadata": {},
   "source": [
    "## SET\n",
    "s.update(t)<br>\n",
    "s.add(x)<br>\n",
    "s.remove(x)<br>\n",
    "s.discardx()<br>\n",
    "s.pop()<br>\n",
    "s.issubset(t)<br>\n",
    "s.superset(t)<br>\n",
    "s.copy()<br>\n",
    "s.intersection_update(t)<br>\n",
    "s.difference_update(t)<br>\n",
    "s.symmetric_difference(t)<br>\n",
    "s.iddisjoint(t)<br>"
   ]
  },
  {
   "cell_type": "markdown",
   "metadata": {},
   "source": [
    "## Dict\n",
    "del<br>\n",
    "dict.clear()<br>\n",
    "dict.pop()<br>\n",
    "dict.popitem()<br>\n",
    "\n",
    "list of operations-<br>\n",
    "sorted()<br>\n",
    "len()<br>\n",
    "str(dist) #returns a string in dict format<br>\n",
    "dict.copy() #returns a shadow copy of a dictionary<br>\n",
    "dict.fromkeys() <br>\n",
    "\n"
   ]
  },
  {
   "cell_type": "markdown",
   "metadata": {},
   "source": [
    "### Q. wap that has dist of states and codes add another state into predefined dist print all items of dist and try to print code a state that does not exist set by a default value"
   ]
  },
  {
   "cell_type": "code",
   "execution_count": null,
   "metadata": {},
   "outputs": [],
   "source": []
  },
  {
   "cell_type": "markdown",
   "metadata": {},
   "source": [
    "### Q. wap that creates a dict of radius and corressponding circumfrence until -1 is entered\n"
   ]
  },
  {
   "cell_type": "code",
   "execution_count": 2,
   "metadata": {},
   "outputs": [
    {
     "name": "stdout",
     "output_type": "stream",
     "text": [
      "Enter radius:5\n",
      "Enter radius:6\n",
      "Enter radius:2\n",
      "Enter radius:3\n",
      "Enter radius:-1\n",
      "{5: 31.41592653589793, 6: 37.69911184307752, 2: 12.566370614359172, 3: 18.84955592153876}\n"
     ]
    }
   ],
   "source": [
    "import math\n",
    "d={}\n",
    "t=0\n",
    "while t!=-1:\n",
    "    t = int(input(\"Enter radius:\"))\n",
    "    if t<0:\n",
    "        break\n",
    "    else:\n",
    "        d[t]=2*math.pi*t\n",
    "print(d)\n"
   ]
  },
  {
   "cell_type": "markdown",
   "metadata": {},
   "source": [
    "### Q. create 2 dict one that stores conversion from m to cm and another for cm and m using dist comprehension "
   ]
  },
  {
   "cell_type": "code",
   "execution_count": 4,
   "metadata": {},
   "outputs": [
    {
     "name": "stdout",
     "output_type": "stream",
     "text": [
      "{1: 100, 2: 200, 3: 300, 4: 400, 5: 500, 6: 600, 7: 700, 8: 800, 9: 900, 10: 1000}\n"
     ]
    }
   ],
   "source": [
    "d1 = {i:i*100 for i in range(1,11)}\n",
    "print(d1)"
   ]
  },
  {
   "cell_type": "markdown",
   "metadata": {},
   "source": [
    "### Q. wap to get the top three items in a shop<br> sample {item1:45, item2:35, item3:41, item4:55, item5:24}<br> item4:55<br>item1:45<br>item3:41"
   ]
  },
  {
   "cell_type": "code",
   "execution_count": 20,
   "metadata": {},
   "outputs": [
    {
     "name": "stdout",
     "output_type": "stream",
     "text": [
      "item4 : 55\n",
      "item1 : 45\n",
      "item3 : 41\n"
     ]
    }
   ],
   "source": [
    "d = {'item1':45, 'item2':35, 'item3':41, 'item4':55, 'item5':24}\n",
    "\n",
    "for i in range(3):\n",
    "    m = max(d.keys(), key = lambda x: d[x])\n",
    "    print(m,\":\",d[m])\n",
    "    d.pop(m)"
   ]
  },
  {
   "cell_type": "markdown",
   "metadata": {},
   "source": [
    "### Q. wap that excepts a sentence and calcuates the number of letters and digits\n",
    "sample input: helloworld!123<br>\n",
    "sample output: letters 10, digit 3"
   ]
  },
  {
   "cell_type": "code",
   "execution_count": 18,
   "metadata": {},
   "outputs": [
    {
     "name": "stdout",
     "output_type": "stream",
     "text": [
      "Enter a string: nishit1234^&*(\n",
      "letters :  6  digits :  4\n"
     ]
    }
   ],
   "source": [
    "s = input(\"Enter a string: \")\n",
    "c1,c2 = 0, 0\n",
    "for i in s:\n",
    "    if i.isdigit():\n",
    "        c2 += 1\n",
    "    elif i.isalpha():\n",
    "        c1 += 1\n",
    "print(\"letters : \",c1,\" digits : \",c2)"
   ]
  },
  {
   "cell_type": "markdown",
   "metadata": {},
   "source": [
    "### Q. wap to replace dict values with their sum"
   ]
  },
  {
   "cell_type": "code",
   "execution_count": null,
   "metadata": {},
   "outputs": [],
   "source": []
  },
  {
   "cell_type": "markdown",
   "metadata": {},
   "source": [
    "### Q. wap to get the max and min values in a dict"
   ]
  },
  {
   "cell_type": "code",
   "execution_count": 22,
   "metadata": {},
   "outputs": [
    {
     "name": "stdout",
     "output_type": "stream",
     "text": [
      "max: 55 min: 24\n"
     ]
    }
   ],
   "source": [
    "d = {'item1':45, 'item2':35, 'item3':41, 'item4':55, 'item5':24}\n",
    "print(\"max:\",max(d.values()),\"min:\",min(d.values()))"
   ]
  },
  {
   "cell_type": "markdown",
   "metadata": {},
   "source": [
    "### Q. wap to remove duplicates from a dict"
   ]
  },
  {
   "cell_type": "code",
   "execution_count": 25,
   "metadata": {},
   "outputs": [
    {
     "name": "stdout",
     "output_type": "stream",
     "text": [
      "{'item1': 45, 'item2': 35, 'item3': 41, 'item4': 55, 'item5': 24}\n"
     ]
    }
   ],
   "source": [
    "d = {'item1':45, 'item2':35, 'item3':41, 'item4':55, 'item5':24, 'item1':45}\n",
    "result = {}\n",
    "\n",
    "print(d)"
   ]
  },
  {
   "cell_type": "markdown",
   "metadata": {},
   "source": [
    "### Q. wap to create and display all combinations of letters , selecting  each letter from a different key in a dictionary <br> sample i/p: {1:[a, b], 2:[c, d]}<br> ac<br>ad<br>bc<br>bd"
   ]
  },
  {
   "cell_type": "code",
   "execution_count": 3,
   "metadata": {},
   "outputs": [
    {
     "name": "stdout",
     "output_type": "stream",
     "text": [
      "[('a', 'c'), ('a', 'd'), ('b', 'c'), ('b', 'd')]\n"
     ]
    }
   ],
   "source": [
    "d = {1:['a', 'b'], 2:['c', 'd']}\n",
    "\"\"\"\n",
    "keys=d.keys()\n",
    "values=d.values()\n",
    "\n",
    "list1 = []\n",
    "for i in range(len(keys)):\n",
    "    list2=[]\n",
    "    for j in range(len(values[i])):\n",
    "             list2.append({keys[i]: values[i][j]})\n",
    "    list1.append(list2)\n",
    "\n",
    "print(list1)\n",
    "    \n",
    "result = []\n",
    "for i in matrix[0]:\n",
    "     for j in matrix[1]:\n",
    "             result.append(dict(i.items() + j.items()))\n",
    "\n",
    "print(result)\n",
    "\"\"\"\n",
    "\n",
    "import itertools as it\n",
    "sortdict = sorted(d)\n",
    "combinations = it.product(*(d[ch] for ch in sortdict))\n",
    "print(list(combinations))\n"
   ]
  },
  {
   "cell_type": "markdown",
   "metadata": {},
   "source": [
    "### Q. wap to print a dictionary line by line <br> i/p {alex:{class:v, roll_id:2}, priya:{class:v, roll_id:3}} <br> o/p alex<br>class:v<br>roll_id:2<br>priya<br>class:v<br>roll_id:3"
   ]
  },
  {
   "cell_type": "code",
   "execution_count": 6,
   "metadata": {},
   "outputs": [
    {
     "name": "stdout",
     "output_type": "stream",
     "text": [
      "alex\n",
      "class : v\n",
      "roll_id : 2\n",
      "priya\n",
      "class : v\n",
      "roll_id : 3\n"
     ]
    }
   ],
   "source": [
    "data = {'alex':{'class':'v', 'roll_id':2}, 'priya':{'class':'v', 'roll_id':3}} \n",
    "\n",
    "for i in data:\n",
    "    print(i)\n",
    "    for j in data[i]:\n",
    "        print (j,':',data[i][j])"
   ]
  },
  {
   "cell_type": "markdown",
   "metadata": {},
   "source": [
    "# ============================================================="
   ]
  },
  {
   "cell_type": "markdown",
   "metadata": {},
   "source": [
    "### Q. A task is given to students to find and display comp of all posible 2 digit letters to compute the combinations the given dict is to be used<br> map = {1:'abc', 2:'def', 3:'ghi', 4:'jkl', 5:'mno', 6:'pqrs', 7:'tuv', 8:'wxy', 9:'zy'}\n",
    "i/p: 4 7<br>\n",
    "o/p: list(ji,ju,jv,kt,ku,kv,lt,lu,lv) "
   ]
  },
  {
   "cell_type": "code",
   "execution_count": 13,
   "metadata": {},
   "outputs": [
    {
     "name": "stdout",
     "output_type": "stream",
     "text": [
      "69\n",
      "['pz', 'qz', 'rz', 'sz']\n"
     ]
    }
   ],
   "source": [
    "d = {'1':'abc', '2':'def', '3':'ghi', '4':'jkl', '5':'mno', '6':'pqrs', '7':'tuv', '8':'wxy', '9':'z'}\n",
    "x = input()\n",
    "x = list(x)\n",
    "if len(x)>2:\n",
    "    print(\"Please enter a 2 digit num\")\n",
    "else:\n",
    "    l1,l2 = list(d[x[0]]), list(d[x[1]])\n",
    "    l3 =[]\n",
    "    for i in l1:\n",
    "        for j in l2:\n",
    "            l3.append(i+j)\n",
    "    print(l3)\n"
   ]
  },
  {
   "cell_type": "markdown",
   "metadata": {},
   "source": [
    "### Q. given a dynamic list of words generate a dict<br>i/p: list <br>o/p: nested dict"
   ]
  },
  {
   "cell_type": "code",
   "execution_count": 1,
   "metadata": {},
   "outputs": [],
   "source": [
    "l = ['monopoly', 'args', 'gratitude', 'sarcasm']\n",
    "d = {}\n",
    "def nesteddict(l):\n",
    "    if len(l)>0:\n",
    "        del l[] \n",
    "        return {l[0]:nesteddict(l)}\n",
    "    else:\n",
    "        return d\n",
    "print(nesteddict(l))\n"
   ]
  },
  {
   "cell_type": "code",
   "execution_count": null,
   "metadata": {},
   "outputs": [],
   "source": []
  },
  {
   "cell_type": "markdown",
   "metadata": {},
   "source": [
    "# Functions"
   ]
  },
  {
   "cell_type": "markdown",
   "metadata": {},
   "source": [
    "### default args always at right side\n",
    "def add(a,b,c=100):<br> \n",
    "    d=a+b+c<br>\n",
    "    return d<br>\n",
    "print(add(1,2,2))<br>\n",
    "\n",
    "### error as a cannot have 2 values\n",
    "add(a=1,b=2,c=5,a=10)<br> \n",
    "\n",
    "### variable length arguments\n",
    "def add(name, * fav_sub):<br>\n",
    "    print(name)<br>\n",
    "    for sub in fav_sub: *# fav_sub is a tuple*<br>\n",
    "        print(sub)<br>\n",
    "        \n",
    "**some points**      \n",
    "- it may take 0 or more values\n",
    "- they are called \n",
    "- the arbiturary num of arguments pass and form a tuple\n",
    "- inside the function for loop is used to access these args\n",
    "- the varlength args if present should be last in the list of formal args\n",
    "- any formal args written after this must be a keyword only args"
   ]
  },
  {
   "cell_type": "markdown",
   "metadata": {},
   "source": [
    "### Q. wap to define a func convert_time_in_mins taking input of hrs and mins assign a user defined name call the func"
   ]
  },
  {
   "cell_type": "code",
   "execution_count": 12,
   "metadata": {
    "scrolled": true
   },
   "outputs": [
    {
     "name": "stdout",
     "output_type": "stream",
     "text": [
      "1:75\n",
      "mins are:  135\n"
     ]
    }
   ],
   "source": [
    "def convert_time_in_mins(hrs,mins):\n",
    "    m = hrs*60\n",
    "    m += mins\n",
    "    return m\n",
    "\n",
    "h,m = input().split(\":\")\n",
    "time = convert_time_in_mins\n",
    "print(\"mins are: \",time(int(h), int(m)))   "
   ]
  },
  {
   "cell_type": "markdown",
   "metadata": {},
   "source": [
    "### Q. wap using func that computes the permutation of p(n,r) and compute series 1/1!+4/2!+27/3!--------n"
   ]
  },
  {
   "cell_type": "code",
   "execution_count": 22,
   "metadata": {},
   "outputs": [
    {
     "name": "stdout",
     "output_type": "stream",
     "text": [
      "120\n",
      "Enter n: 7\n",
      "Enter r: 5\n",
      "2520.0\n",
      "Enter nth element: 9\n",
      "1756.138318452381\n"
     ]
    }
   ],
   "source": [
    "def factorial(n):\n",
    "   \"\"\"Function to return the factorial\n",
    "   of a number using recursion\"\"\"\n",
    "   if n == 1:\n",
    "    return n\n",
    "   else:\n",
    "    return n*factorial(n-1)\n",
    "print(factorial(5))\n",
    "\n",
    "\n",
    "import math as m\n",
    "n, r  =int(input(\"Enter n: \")),int(input(\"Enter r: \"))\n",
    "permutation = m.factorial(n)/m.factorial(n-r)\n",
    "print(permutation)\n",
    "\n",
    "n = int(input(\"Enter nth element: \"))\n",
    "s=0\n",
    "for i in range(1,n+1):\n",
    "    s += i**i/m.factorial(i)\n",
    "print(s)\n"
   ]
  },
  {
   "cell_type": "markdown",
   "metadata": {},
   "source": [
    "### Q. wap that uses docstring and variable length args to find sum of all subject marks"
   ]
  },
  {
   "cell_type": "code",
   "execution_count": 18,
   "metadata": {},
   "outputs": [
    {
     "name": "stdout",
     "output_type": "stream",
     "text": [
      "Sum of marks is: 150 \n",
      "Doc string is:  This function sums all marks\n"
     ]
    }
   ],
   "source": [
    "def add(*args):\n",
    "    \"\"\"This function sums all marks\"\"\"\n",
    "    s = 0\n",
    "    for i in args:\n",
    "        s+=i\n",
    "    return s\n",
    "\n",
    "print(\"Sum of marks is:\",add(10,20,30,40,50),\"\\nDoc string is: \",add.__doc__)\n",
    "    "
   ]
  },
  {
   "cell_type": "code",
   "execution_count": null,
   "metadata": {},
   "outputs": [],
   "source": [
    "U2FsdGVkX1+lyyS5LXTax11BFYiZHCVR+wDGWvrj5g5blgrCXB8cuJGamN569KsOMdloiwWi8zcOB3my9tMD+6crzITQTcuavOkK8Jn1LiFGm2giFOyhmxszGFh4UTcZJsPdC9qgHfaAxcQM+wmDzCWauMbAgL7wnEdrBJENfY+vuyo58eBT7FabmG4OBUofApwnVbsM69fByrM0l9qZwdYT+bKQWQ5PTBz0moqIflEVmPE1r6/2cDBuVe1onS8FfB37IjYDwa8pH2Ry92T/PZhfH9OYZRxu+5IW/JWT1d53OTh0EvefZqmluI1dOXscQvWVdc96FHvXtndP4cr6J/77Jy2usrNRvuwLhOx98M7PAXMHCPYER5UJqUdVwjNpSwEEAiiohl9qCDV9A6KcVIAnmCYq6vUz3ICSvEfc86LulKLBckm+JFqmrwyFxQv65ThYsiAW44qMUwMXB6gAd3K4Hb+whGjpZOYV5KhA0uA="
   ]
  }
 ],
 "metadata": {
  "kernelspec": {
   "display_name": "Python 3",
   "language": "python",
   "name": "python3"
  },
  "language_info": {
   "codemirror_mode": {
    "name": "ipython",
    "version": 3
   },
   "file_extension": ".py",
   "mimetype": "text/x-python",
   "name": "python",
   "nbconvert_exporter": "python",
   "pygments_lexer": "ipython3",
   "version": "3.6.8"
  }
 },
 "nbformat": 4,
 "nbformat_minor": 2
}
