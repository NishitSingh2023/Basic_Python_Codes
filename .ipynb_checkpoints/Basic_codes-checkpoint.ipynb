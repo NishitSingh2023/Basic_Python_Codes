{
 "cells": [
  {
   "cell_type": "markdown",
   "metadata": {},
   "source": [
    "# Python Codes"
   ]
  },
  {
   "cell_type": "markdown",
   "metadata": {},
   "source": [
    "### 1. Sum of Complex Numbers "
   ]
  },
  {
   "cell_type": "code",
   "execution_count": 4,
   "metadata": {},
   "outputs": [
    {
     "name": "stdout",
     "output_type": "stream",
     "text": [
      "1 2 3 4\n"
     ]
    },
    {
     "data": {
      "text/plain": [
       "(4+6j)"
      ]
     },
     "execution_count": 4,
     "metadata": {},
     "output_type": "execute_result"
    }
   ],
   "source": [
    "a,b,c,d = input().split()\n",
    "a,b,c,d = int(a), int(b), int(c), int(d)\n",
    "complex(a,b)+complex(c,d)"
   ]
  },
  {
   "cell_type": "markdown",
   "metadata": {},
   "source": [
    "### 2. First name Last name "
   ]
  },
  {
   "cell_type": "code",
   "execution_count": 5,
   "metadata": {},
   "outputs": [
    {
     "name": "stdout",
     "output_type": "stream",
     "text": [
      "nishit singh\n",
      "nishitsingh\n",
      "nishit singh\n"
     ]
    }
   ],
   "source": [
    "a, b = input().split()\n",
    "print(a+b)\n",
    "print(a+\" \"+b)"
   ]
  },
  {
   "cell_type": "markdown",
   "metadata": {},
   "source": [
    "### 3. String multiply"
   ]
  },
  {
   "cell_type": "code",
   "execution_count": 6,
   "metadata": {},
   "outputs": [
    {
     "name": "stdout",
     "output_type": "stream",
     "text": [
      "abc\n",
      "3\n",
      "abcabcabc\n",
      "abc3\n"
     ]
    }
   ],
   "source": [
    "a, b = input(), int(input())\n",
    "print(a*b)\n",
    "print(a+str(b))"
   ]
  },
  {
   "cell_type": "markdown",
   "metadata": {},
   "source": [
    "### 4. Variable type"
   ]
  },
  {
   "cell_type": "code",
   "execution_count": 7,
   "metadata": {},
   "outputs": [
    {
     "name": "stdout",
     "output_type": "stream",
     "text": [
      "<class 'int'> <class 'float'> <class 'str'> <class 'complex'>\n"
     ]
    }
   ],
   "source": [
    "a, b, c, d = 2, 0.05, 'demo', 2+4j\n",
    "print(type(a), type(b), type(c), type(d))"
   ]
  },
  {
   "cell_type": "markdown",
   "metadata": {},
   "source": [
    "### 5. Operaters"
   ]
  },
  {
   "cell_type": "markdown",
   "metadata": {},
   "source": [
    "`%` remainder<br>\n",
    "`**` exponential<br>\n",
    "`*` multiply<br>\n",
    "`-` subtraction<br>\n",
    "`+` addition<br>\n",
    "`/` division<br>\n",
    "`//` int division<br>\n",
    "\n",
    "#### Priority (decending)\n",
    "`( )`   <br>\n",
    "`* / //`<br>\n",
    "`+ -`   <br>\n",
    "`=`     <br>"
   ]
  },
  {
   "cell_type": "markdown",
   "metadata": {},
   "source": [
    "### 6. More operaters\n",
    "#### Identity operater \n",
    "**EX:-**<br>\n",
    "a = 1<br>\n",
    "id(a)\n",
    "#### `is` and `not is`\n",
    "**EX:-**<br>\n",
    "if(a is b):<br>"
   ]
  },
  {
   "cell_type": "markdown",
   "metadata": {},
   "source": [
    "### 7. Raw String"
   ]
  },
  {
   "cell_type": "code",
   "execution_count": 2,
   "metadata": {},
   "outputs": [
    {
     "name": "stdout",
     "output_type": "stream",
     "text": [
      "Whats \\ up?\n",
      "Whats \\\\ up?\n"
     ]
    }
   ],
   "source": [
    "print(\"Whats \\\\ up?\") #normal string\n",
    "print(R\"Whats \\\\ up?\") #raw string"
   ]
  },
  {
   "cell_type": "markdown",
   "metadata": {},
   "source": [
    "### 8. String Slicing"
   ]
  },
  {
   "cell_type": "code",
   "execution_count": 29,
   "metadata": {},
   "outputs": [
    {
     "data": {
      "text/plain": [
       "'yhni ay!'"
      ]
     },
     "execution_count": 29,
     "metadata": {},
     "output_type": "execute_result"
    }
   ],
   "source": [
    "s = 'Python is easy!!!'\n",
    "s[1:-1:2]"
   ]
  },
  {
   "cell_type": "markdown",
   "metadata": {},
   "source": [
    "### 9. Dictionary"
   ]
  },
  {
   "cell_type": "code",
   "execution_count": 34,
   "metadata": {},
   "outputs": [
    {
     "name": "stdout",
     "output_type": "stream",
     "text": [
      "{'Item': 'Chocolate', 'Price': 100}\n",
      "Chocolate\n"
     ]
    }
   ],
   "source": [
    "Dict = {\"Item\":\"Chocolate\", \"Price\":100}\n",
    "print(Dict)\n",
    "print(Dict[\"Item\"])"
   ]
  },
  {
   "cell_type": "code",
   "execution_count": null,
   "metadata": {},
   "outputs": [],
   "source": [
    "##q1. wap to cal distance btw 2 points on cordinate axis\n",
    "##q2. wap to perform arithmatic operations of int float and comlex\n",
    "##q3. wap print avg and deviation from it"
   ]
  },
  {
   "cell_type": "markdown",
   "metadata": {},
   "source": [
    "## Q1. wap to cal distance btw 2 points on cordinate axis"
   ]
  },
  {
   "cell_type": "code",
   "execution_count": 4,
   "metadata": {},
   "outputs": [
    {
     "name": "stdout",
     "output_type": "stream",
     "text": [
      "X cord of first point:1\n",
      "Y cord of first point:1\n",
      "X cord of sec point:2\n",
      "Y cord of sec point:2\n",
      "1.4142135623730951\n"
     ]
    }
   ],
   "source": [
    "import math\n",
    "a,b,c,d = int(input(\"X cord of first point:\")), int(input(\"Y cord of first point:\")), int(input(\"X cord of sec point:\")), int(input(\"Y cord of sec point:\"))\n",
    "distance = math.sqrt((a-c)**2+(b-d)**2)\n",
    "print(distance)"
   ]
  },
  {
   "cell_type": "markdown",
   "metadata": {},
   "source": [
    "## Q2. wap to perform arithmatic operations of int float and complex"
   ]
  },
  {
   "cell_type": "code",
   "execution_count": null,
   "metadata": {},
   "outputs": [],
   "source": [
    "x = input()\n",
    "if x == 'int':\n",
    "    a,b = int(input(\"Enter num1:\")), int(input(\"Enter num2:\"))\n",
    "    print(a+b)\n",
    "elif x=='float':\n",
    "    a,b = float(input(\"Enter num1:\")), float(input(\"Enter num1:\"))\n",
    "    print(a+b)\n",
    "elif x=='complex':\n",
    "    a,b,c,d = input(int(a)), input(int(b)), input(int(c)), input(int(d))\n",
    "    print(complex(a,b)+complex(c,d))"
   ]
  },
  {
   "cell_type": "code",
   "execution_count": null,
   "metadata": {},
   "outputs": [],
   "source": []
  }
 ],
 "metadata": {
  "kernelspec": {
   "display_name": "Python 3",
   "language": "python",
   "name": "python3"
  },
  "language_info": {
   "codemirror_mode": {
    "name": "ipython",
    "version": 3
   },
   "file_extension": ".py",
   "mimetype": "text/x-python",
   "name": "python",
   "nbconvert_exporter": "python",
   "pygments_lexer": "ipython3",
   "version": "3.6.8"
  }
 },
 "nbformat": 4,
 "nbformat_minor": 2
}
