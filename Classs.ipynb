{
 "cells": [
  {
   "cell_type": "markdown",
   "metadata": {},
   "source": [
    "### Q. Wap that uses classes to store the name and marks of students use list to store makes in 3 subjects"
   ]
  },
  {
   "cell_type": "code",
   "execution_count": 2,
   "metadata": {},
   "outputs": [
    {
     "name": "stdout",
     "output_type": "stream",
     "text": [
      "alan\n",
      "(98, 65, 86)\n"
     ]
    }
   ],
   "source": [
    "class data:\n",
    "    marks = []\n",
    "    def __init__(self, name, *marks):\n",
    "        self.name = name\n",
    "        self.marks = marks\n",
    "\n",
    "p1 = data('alan',98,65,86)\n",
    "print(p1.name)\n",
    "print(p1.marks)\n",
    "    "
   ]
  },
  {
   "cell_type": "code",
   "execution_count": null,
   "metadata": {},
   "outputs": [],
   "source": []
  }
 ],
 "metadata": {
  "kernelspec": {
   "display_name": "Python 3",
   "language": "python",
   "name": "python3"
  },
  "language_info": {
   "codemirror_mode": {
    "name": "ipython",
    "version": 3
   },
   "file_extension": ".py",
   "mimetype": "text/x-python",
   "name": "python",
   "nbconvert_exporter": "python",
   "pygments_lexer": "ipython3",
   "version": "3.6.8"
  }
 },
 "nbformat": 4,
 "nbformat_minor": 2
}
