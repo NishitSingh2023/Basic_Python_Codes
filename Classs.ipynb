{
 "cells": [
  {
   "cell_type": "markdown",
   "metadata": {},
   "source": [
    "# Classes"
   ]
  },
  {
   "cell_type": "markdown",
   "metadata": {},
   "source": [
    "### Q. Wap that uses classes to store the name and marks of students use list to store makes in 3 subjects"
   ]
  },
  {
   "cell_type": "code",
   "execution_count": 2,
   "metadata": {},
   "outputs": [
    {
     "name": "stdout",
     "output_type": "stream",
     "text": [
      "alan\n",
      "(98, 65, 86)\n"
     ]
    }
   ],
   "source": [
    "class data:\n",
    "    marks = []\n",
    "    def __init__(self, name, *marks):\n",
    "        self.name = name\n",
    "        self.marks = marks\n",
    "\n",
    "p1 = data('alan',98,65,86)\n",
    "\n",
    "print(p1.name)\n",
    "print(p1.marks)\n",
    "\n",
    "    "
   ]
  },
  {
   "cell_type": "markdown",
   "metadata": {},
   "source": [
    "**Note: Access a private member of a class outside in main\n",
    "`object._Classname.__private-member`**"
   ]
  },
  {
   "cell_type": "markdown",
   "metadata": {},
   "source": [
    "## Some special func of Class:"
   ]
  },
  {
   "cell_type": "markdown",
   "metadata": {},
   "source": [
    "- `def __repr__()` This method is a built in func, it returns a string representation it works on any kind of object not only class's\n",
    "- `def __cmp__()` It is used to compare 2 python objects based on equality operator\n",
    "- `def __len__()` called in implementation of len()\n",
    "- `def __setitem(self, index, value)` Its is used to set item to an index value\n",
    "- `def __getitem__(self, index)` It is used to return a value of the index"
   ]
  },
  {
   "cell_type": "markdown",
   "metadata": {},
   "source": [
    "## Built in Class methods"
   ]
  },
  {
   "cell_type": "markdown",
   "metadata": {},
   "source": [
    "**These are already defined and can be called directly(NOT METHOD OF A CLASS):-**\n",
    "\n",
    "- `hasattr(obj, attr)`\n",
    "- `getattr(obj, name)`\n",
    "- `setattr(obj, name, key)`\n",
    "- `delattr()`"
   ]
  },
  {
   "cell_type": "markdown",
   "metadata": {},
   "source": [
    "## Built in Class attributes"
   ]
  },
  {
   "cell_type": "markdown",
   "metadata": {},
   "source": [
    "- `obj.__dict__` returns a dict of variables\n",
    "- `obj.__doc__` return the doc string of class\n",
    "- `obj.__bases__` returns the base class that is involved in that chain\n",
    "- `obj.__module__` use for retrieving the module where the function was defined, either to read the source code or sometimes to re-import it in a script.\n",
    "- `obj.__name__` returns name of class"
   ]
  },
  {
   "cell_type": "markdown",
   "metadata": {},
   "source": [
    "### Class method: \n",
    "**It is used when we operate on class variables these methods take class as the first arguments and instead of self they are called by class not object.\n",
    "They are defined and declared by adding a decorator `@class method` and the first arg is always cls**\n",
    "\n",
    "### Static methods:\n",
    "**They operate at class level and are defined by using `@staticmethod` inside the class but do not take cls or self. They do not automatically pass anything and behave as regular func except that they in a class\n",
    "They are used when some processing is related to the class but do not need the class or its instances to perform any work.**"
   ]
  },
  {
   "cell_type": "code",
   "execution_count": null,
   "metadata": {},
   "outputs": [],
   "source": []
  }
 ],
 "metadata": {
  "kernelspec": {
   "display_name": "Python 3",
   "language": "python",
   "name": "python3"
  },
  "language_info": {
   "codemirror_mode": {
    "name": "ipython",
    "version": 3
   },
   "file_extension": ".py",
   "mimetype": "text/x-python",
   "name": "python",
   "nbconvert_exporter": "python",
   "pygments_lexer": "ipython3",
   "version": "3.6.8"
  }
 },
 "nbformat": 4,
 "nbformat_minor": 2
}
