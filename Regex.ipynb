{
 "cells": [
  {
   "cell_type": "markdown",
   "metadata": {},
   "source": [
    "# Regex"
   ]
  },
  {
   "cell_type": "markdown",
   "metadata": {},
   "source": [
    "## re.match(pattern, string, flag=0)<br><br>re.search(pattern, string, flag=0)<br><br>re.sub(pattern, repl, string, max=0)<br><br>re.findall(pattern, input_str, flags=0)<br><br>re.finditr(pattern, string, flag=0)"
   ]
  },
  {
   "cell_type": "markdown",
   "metadata": {},
   "source": [
    "### *Note: search, match and finditer func have start and end methods*"
   ]
  },
  {
   "cell_type": "markdown",
   "metadata": {},
   "source": [
    "**[Metacharacters in regex](https://www.w3schools.com/python/python_regex.asp)**"
   ]
  },
  {
   "cell_type": "code",
   "execution_count": null,
   "metadata": {},
   "outputs": [],
   "source": []
  },
  {
   "cell_type": "code",
   "execution_count": null,
   "metadata": {},
   "outputs": [],
   "source": []
  },
  {
   "cell_type": "code",
   "execution_count": null,
   "metadata": {},
   "outputs": [],
   "source": []
  },
  {
   "cell_type": "markdown",
   "metadata": {},
   "source": [
    "### Q. given a string and check if it is a valid moble num starting with 7,8,9 <br> - first line contains int n num of inputs<br>- the n following lines are some string (1<=n<=10)"
   ]
  },
  {
   "cell_type": "code",
   "execution_count": 4,
   "metadata": {},
   "outputs": [
    {
     "name": "stdout",
     "output_type": "stream",
     "text": [
      "2\n",
      "9876543219\n",
      "Yes\n",
      "6545789123\n",
      "No\n"
     ]
    }
   ],
   "source": [
    "import re\n",
    "def check():\n",
    "    x = input()\n",
    "    rgx = \"[789]\\d{9}\"\n",
    "    if re.findall(rgx,x):\n",
    "        print('Yes')\n",
    "    else:\n",
    "        print('No')\n",
    "\n",
    "n = int(input())\n",
    "for i in range(n):\n",
    "    check()\n"
   ]
  },
  {
   "cell_type": "markdown",
   "metadata": {},
   "source": [
    "### Q. A valid email add meets the following criteria \n",
    " - it is made of username, domain ,extention assembled in form\n",
    " - the username starts with eng alphabet char and any subsequent char consist of 1 or more of the following(\\-, ., _)\n",
    " - domain can contain only english chars\n",
    " - the extention is 1,2 or 3 chars in length \n",
    " ### Given n pair of names and email address print each name and the address in the given line"
   ]
  },
  {
   "cell_type": "code",
   "execution_count": 54,
   "metadata": {},
   "outputs": [
    {
     "name": "stdout",
     "output_type": "stream",
     "text": [
      "1\n",
      "arun-@gmail.com\n",
      "Yes\n"
     ]
    }
   ],
   "source": [
    "import re\n",
    "def check():\n",
    "    x = input()\n",
    "    rgx = \"\\w+[-._]+@[a-zA-Z]+[.]\\D{2}\"\n",
    "    \n",
    "    if re.findall(rgx,x):\n",
    "        print(\"Yes\")\n",
    "    else:\n",
    "        print(\"No\")\n",
    "\n",
    "\n",
    "n = int(input())\n",
    "for i in range(n):\n",
    "    check()"
   ]
  },
  {
   "cell_type": "code",
   "execution_count": null,
   "metadata": {},
   "outputs": [],
   "source": []
  },
  {
   "cell_type": "code",
   "execution_count": null,
   "metadata": {},
   "outputs": [],
   "source": [
    "1"
   ]
  }
 ],
 "metadata": {
  "kernelspec": {
   "display_name": "Python 3",
   "language": "python",
   "name": "python3"
  },
  "language_info": {
   "codemirror_mode": {
    "name": "ipython",
    "version": 3
   },
   "file_extension": ".py",
   "mimetype": "text/x-python",
   "name": "python",
   "nbconvert_exporter": "python",
   "pygments_lexer": "ipython3",
   "version": "3.6.8"
  }
 },
 "nbformat": 4,
 "nbformat_minor": 2
}
