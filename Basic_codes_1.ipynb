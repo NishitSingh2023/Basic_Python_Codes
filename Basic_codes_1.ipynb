{
 "cells": [
  {
   "cell_type": "markdown",
   "metadata": {},
   "source": [
    "# Python Codes"
   ]
  },
  {
   "cell_type": "markdown",
   "metadata": {},
   "source": [
    "## Date: 29/7/19"
   ]
  },
  {
   "cell_type": "markdown",
   "metadata": {},
   "source": [
    "## String Formatting"
   ]
  },
  {
   "cell_type": "code",
   "execution_count": 10,
   "metadata": {},
   "outputs": [
    {
     "name": "stdout",
     "output_type": "stream",
     "text": [
      "10, 0.050000, abc\n",
      "10, 0.05\n",
      "abc, 10, 0.05\n"
     ]
    }
   ],
   "source": [
    "a = 10\n",
    "b = 0.05\n",
    "c = 'abc'\n",
    "print(\"%d, %f, %s\" %(a,b,c))\n",
    "print(\"{}, {}, {}\".format(a,b,c))\n",
    "print(\"{2}, {0}, {1}\".format(a,b,c))"
   ]
  },
  {
   "cell_type": "code",
   "execution_count": 28,
   "metadata": {},
   "outputs": [
    {
     "name": "stdout",
     "output_type": "stream",
     "text": [
      "hi test       hi\n",
      "hi       test hi\n",
      "hi test       hi\n",
      "hi       test hi\n",
      "hi test       hi\n",
      "hi    test    hi\n",
      "hi ___test___ hi\n",
      "hi @@@@@@test hi\n",
      "hi test&&&&&& hi\n"
     ]
    }
   ],
   "source": [
    "#Padding strings\n",
    "print('hi %-10s hi' %('test'))\n",
    "print('hi %10s hi' %('test'))\n",
    "print('hi {:10} hi'.format('test'))\n",
    "#======================================\n",
    "print('hi {:>10} hi'.format('test'))\n",
    "print('hi {:<10} hi'.format('test'))                 #length\n",
    "print('hi {:^10} hi'.format('test'))     #When using center odd no left has less num and right\n",
    "#======================================\n",
    "print('hi {:_^10} hi'.format('test'))\n",
    "print('hi {:@>10} hi'.format('test'))                 #padding\n",
    "print('hi {:&<10} hi'.format('test'))\n"
   ]
  },
  {
   "cell_type": "code",
   "execution_count": 29,
   "metadata": {},
   "outputs": [
    {
     "name": "stdout",
     "output_type": "stream",
     "text": [
      "Xylop\n",
      "Xylop\n"
     ]
    }
   ],
   "source": [
    "# Truncating String\n",
    "print('%.5s' %('Xylophone'))\n",
    "print('{:.5}'.format('Xylophone'))"
   ]
  },
  {
   "cell_type": "code",
   "execution_count": 38,
   "metadata": {},
   "outputs": [
    {
     "name": "stdout",
     "output_type": "stream",
     "text": [
      "hi Xylop      hi\n"
     ]
    }
   ],
   "source": [
    "#padding and truncating both at same time\n",
    "print('hi {:10.5} hi'.format('Xylophone')) "
   ]
  },
  {
   "cell_type": "code",
   "execution_count": 46,
   "metadata": {},
   "outputs": [
    {
     "name": "stdout",
     "output_type": "stream",
     "text": [
      "3.141593\n",
      "3.1415926535897931159979634685441851615906\n",
      "003.14\n"
     ]
    }
   ],
   "source": [
    "import math\n",
    "print('%f' %(math.pi))\n",
    "print('{:.40f}'.format(math.pi))\n",
    "print('{:06.2f}'.format(math.pi))"
   ]
  },
  {
   "cell_type": "markdown",
   "metadata": {},
   "source": [
    "### Q. Wap to find all num divisible by 7 not a multiple of 5 bt 2000 And 3500 print the num in form of common sep sequence"
   ]
  },
  {
   "cell_type": "code",
   "execution_count": 50,
   "metadata": {},
   "outputs": [
    {
     "name": "stdout",
     "output_type": "stream",
     "text": [
      "2002, 2009, 2016, 2023, 2037, 2044, 2051, 2058, 2072, 2079, 2086, 2093, 2107, 2114, 2121, 2128, 2142, 2149, 2156, 2163, 2177, 2184, 2191, 2198, 2212, 2219, 2226, 2233, 2247, 2254, 2261, 2268, 2282, 2289, 2296, 2303, 2317, 2324, 2331, 2338, 2352, 2359, 2366, 2373, 2387, 2394, 2401, 2408, 2422, 2429, 2436, 2443, 2457, 2464, 2471, 2478, 2492, 2499, 2506, 2513, 2527, 2534, 2541, 2548, 2562, 2569, 2576, 2583, 2597, 2604, 2611, 2618, 2632, 2639, 2646, 2653, 2667, 2674, 2681, 2688, 2702, 2709, 2716, 2723, 2737, 2744, 2751, 2758, 2772, 2779, 2786, 2793, 2807, 2814, 2821, 2828, 2842, 2849, 2856, 2863, 2877, 2884, 2891, 2898, 2912, 2919, 2926, 2933, 2947, 2954, 2961, 2968, 2982, 2989, 2996, 3003, 3017, 3024, 3031, 3038, 3052, 3059, 3066, 3073, 3087, 3094, 3101, 3108, 3122, 3129, 3136, 3143, 3157, 3164, 3171, 3178, 3192, 3199, 3206, 3213, 3227, 3234, 3241, 3248, 3262, 3269, 3276, 3283, 3297, 3304, 3311, 3318, 3332, 3339, 3346, 3353, 3367, 3374, 3381, 3388, 3402, 3409, 3416, 3423, 3437, 3444, 3451, 3458, 3472, 3479, 3486, 3493, "
     ]
    }
   ],
   "source": [
    "for i in range(2000,3501):\n",
    "    if i%7 == 0:\n",
    "        if i%5 != 0:\n",
    "            print(i ,end=\", \")"
   ]
  },
  {
   "cell_type": "markdown",
   "metadata": {},
   "source": [
    "### Q. Wap to calc and print acc to given formula Q = sqrt(2CD/H) the following fixed values are to used C=50, H=30, D is Var whose value is to be input by user <br>sample input 100,150,180<br>sample output 18,22,24"
   ]
  },
  {
   "cell_type": "code",
   "execution_count": 8,
   "metadata": {},
   "outputs": [
    {
     "name": "stdout",
     "output_type": "stream",
     "text": [
      "Enter String: 123,456,789\n",
      "20.25, 38.99, 51.28\n"
     ]
    }
   ],
   "source": [
    "import math\n",
    "C = 50\n",
    "H = 30\n",
    "\n",
    "a, b, c = input(\"Enter String: \").split(',')\n",
    "\n",
    "Q1 = math.sqrt(2*C*int(a)/H)\n",
    "Q2 = math.sqrt(2*C*int(b)/H)\n",
    "Q3 = math.sqrt(2*C*int(c)/H)\n",
    "\n",
    "print(\"{:.2f}, {:.2f}, {:.2f}\".format(Q1, Q2, Q3))        "
   ]
  },
  {
   "cell_type": "markdown",
   "metadata": {},
   "source": [
    "## Date: 31/7/19"
   ]
  },
  {
   "cell_type": "markdown",
   "metadata": {},
   "source": [
    "## String methods and functions"
   ]
  },
  {
   "cell_type": "markdown",
   "metadata": {},
   "source": [
    "- **str.Capitalize()**<br>\n",
    "- **str.count('substring',0,len(str))**<br>\n",
    "- **str.find('substring',0,len(str))**<br>\n",
    "- **str.index('substr',0,len(str))**<br>\n",
    "- **str.ljust(10, \" \")<br>**\n",
    "- **str.rjust(10, \" \")**\n"
   ]
  },
  {
   "cell_type": "markdown",
   "metadata": {},
   "source": [
    "### Most used\n",
    "- **strip()<br>** \n",
    "- **str.upper()<br>** \n",
    "- **str.lower()<br>** \n",
    "- **str.zfill(10)<br>**\n",
    "- **max(str)<br>**\n",
    "- **min(str)<br>**\n",
    "- **str.replace('old', 'new')<br>**\n",
    "- **str.swapcase()<br>**\n",
    "- **str.split('char')<br>**\n",
    "- **'char'. join(list)**\n",
    "- **ord('char')**\n",
    "- **chr('ascii')**"
   ]
  },
  {
   "cell_type": "markdown",
   "metadata": {},
   "source": [
    "### Q1. Wap to print the pattern<br> A<br>A B<br>A B C<br>A B C D<br> A B C D E"
   ]
  },
  {
   "cell_type": "code",
   "execution_count": 12,
   "metadata": {},
   "outputs": [
    {
     "name": "stdout",
     "output_type": "stream",
     "text": [
      "\n",
      "A \n",
      "A B \n",
      "A B C \n",
      "A B C D \n",
      "A B C D E "
     ]
    }
   ],
   "source": [
    "for i in range(1,6):\n",
    "    print()\n",
    "    for j in range(i):\n",
    "        print(chr(ord(\"A\")+j), end=' ')    "
   ]
  },
  {
   "cell_type": "markdown",
   "metadata": {},
   "source": [
    "### Q2. Wap that takes user name and pan card no as input validate the info and print details"
   ]
  },
  {
   "cell_type": "code",
   "execution_count": 15,
   "metadata": {},
   "outputs": [
    {
     "name": "stdout",
     "output_type": "stream",
     "text": [
      "Enter name: asdf23\n",
      "Enter pan number: 123sd\n",
      "Invalid info\n"
     ]
    }
   ],
   "source": [
    "name = input(\"Enter name: \")\n",
    "pan = input(\"Enter pan number: \")\n",
    "if name.isalpha() and pan.isalnum():\n",
    "    print(\"Info is valid\")\n",
    "else:\n",
    "    print(\"Invalid info\")"
   ]
  },
  {
   "cell_type": "markdown",
   "metadata": {},
   "source": [
    "### Q3. take an input from multiline string from user and wap to split a multline string and print indivisual strings"
   ]
  },
  {
   "cell_type": "code",
   "execution_count": 21,
   "metadata": {},
   "outputs": [
    {
     "name": "stdout",
     "output_type": "stream",
     "text": [
      "Enter your multi line code: \n",
      "\n",
      "dfghjk\n",
      "cvbnm,\n",
      " \n",
      "k['\n",
      "\n",
      "Your no of lines are: 4 And they are:\n",
      "\n",
      "dfghjk\n",
      "cvbnm,\n",
      " \n",
      "k['\n"
     ]
    }
   ],
   "source": [
    "lines = []\n",
    "print(\"Enter your multi line code: \\n\")\n",
    "while True:\n",
    "    line = input()\n",
    "    if line:\n",
    "        lines.append(line)\n",
    "    else:\n",
    "        break\n",
    "print(\"Your no of lines are {}, And they are:\\n\".format(len(lines)))\n",
    "for i in range(len(lines)):\n",
    "    print(str(lines[i]))"
   ]
  },
  {
   "cell_type": "markdown",
   "metadata": {},
   "source": [
    "### Q5. wap to generate Abecedarian series. It an series or list in which elements appear in alphabet order take an input from string 'ABCDEFGH' and 'ate' and generate 'Aate', 'Bate', 'Cate','Date' ..etc"
   ]
  },
  {
   "cell_type": "code",
   "execution_count": 13,
   "metadata": {},
   "outputs": [
    {
     "name": "stdout",
     "output_type": "stream",
     "text": [
      "Enter the first string: nihsit\n",
      "Enter Sec string: abc\n",
      "habc\n",
      "iabc\n",
      "iabc\n",
      "nabc\n",
      "sabc\n",
      "tabc\n"
     ]
    }
   ],
   "source": [
    "s1 = input(\"Enter the first string: \")\n",
    "s2 = input(\"Enter Sec string: \")\n",
    "l = list(s1)\n",
    "for i in range(len(l)):\n",
    "    for j in range(len(l)):\n",
    "        if l[i]<l[j]:\n",
    "            temp = l[i]\n",
    "            l[i] = l[j]\n",
    "            l[j] = temp\n",
    "\n",
    "for i in range(len(l)):\n",
    "    print(l[i]+s2)"
   ]
  },
  {
   "cell_type": "markdown",
   "metadata": {},
   "source": [
    "### Q6. wap that expects string from user and redisplay string after removeing vowels from it "
   ]
  },
  {
   "cell_type": "code",
   "execution_count": 1,
   "metadata": {},
   "outputs": [
    {
     "name": "stdout",
     "output_type": "stream",
     "text": [
      "Enter the string: nishit\n",
      "nsht"
     ]
    }
   ],
   "source": [
    "s = input(\"Enter the string: \")\n",
    "for i in s:\n",
    "    if i == 'a' or i == 'e' or i == 'i' or i == 'o' or i == 'u':\n",
    "        continue\n",
    "    else:\n",
    "        print(i,end=\"\")"
   ]
  },
  {
   "cell_type": "markdown",
   "metadata": {},
   "source": [
    "### Q7. find the char in a string and return index"
   ]
  },
  {
   "cell_type": "code",
   "execution_count": 29,
   "metadata": {},
   "outputs": [
    {
     "name": "stdout",
     "output_type": "stream",
     "text": [
      "Enter string:nishit\n",
      "Enter a char:i\n",
      "index is:  1\n",
      "index is:  4\n"
     ]
    }
   ],
   "source": [
    "s = input(\"Enter string:\")\n",
    "c = input(\"Enter a char:\")\n",
    "count = 0\n",
    "if(len(c)>1):\n",
    "    print(\"Not a char\")\n",
    "else:\n",
    "    for i in range(len(s)):\n",
    "        if c == s[i]:\n",
    "            print(\"index is: \",i)"
   ]
  },
  {
   "cell_type": "markdown",
   "metadata": {},
   "source": [
    "### Q8. count num of occurences of char in a string"
   ]
  },
  {
   "cell_type": "code",
   "execution_count": 36,
   "metadata": {},
   "outputs": [
    {
     "name": "stdout",
     "output_type": "stream",
     "text": [
      "Enter string:nishIt\n",
      "Enter a char:i\n",
      "Count of num is:  2\n"
     ]
    }
   ],
   "source": [
    "s = input(\"Enter string:\")\n",
    "c = input(\"Enter a char:\")\n",
    "count = 0\n",
    "\n",
    "if(len(c)>1):\n",
    "    print(\"Not a char\")\n",
    "else:\n",
    "    for i in s:\n",
    "        if i==c or i==chr(ord(c)+32) or i==chr(ord(c)-32):\n",
    "            count += 1\n",
    "        \n",
    "    print(\"Count of num is: \",count)"
   ]
  },
  {
   "cell_type": "markdown",
   "metadata": {},
   "source": [
    "### Q. wap to count num of chars in a string"
   ]
  },
  {
   "cell_type": "code",
   "execution_count": 8,
   "metadata": {},
   "outputs": [
    {
     "name": "stdout",
     "output_type": "stream",
     "text": [
      "Enter a string: nishit singh\n",
      "'n'-2\n",
      "'i'-3\n",
      "'s'-2\n",
      "'h'-2\n",
      "'i'-3\n",
      "'t'-1\n",
      "' '-1\n",
      "'s'-2\n",
      "'i'-3\n",
      "'n'-2\n",
      "'g'-1\n",
      "'h'-2\n"
     ]
    }
   ],
   "source": [
    "s = input(\"Enter a string: \")\n",
    "\n",
    "for i in s:\n",
    "    count = 0\n",
    "    for j in s:\n",
    "        if i==j:\n",
    "            count += 1\n",
    "    print(\"'{}'-{}\".format(i,count))"
   ]
  },
  {
   "cell_type": "markdown",
   "metadata": {},
   "source": [
    "### Q. wap to get string from a given string where all the occurences of first char have been changed to 'dollar sign'"
   ]
  },
  {
   "cell_type": "code",
   "execution_count": 13,
   "metadata": {},
   "outputs": [
    {
     "name": "stdout",
     "output_type": "stream",
     "text": [
      "Enter a string: abababa\n",
      "new string is:  ab$b$b$\n"
     ]
    }
   ],
   "source": [
    "s = input(\"Enter a string: \")\n",
    "for i in range(1, len(s)):\n",
    "    if s[0] == s[i]:\n",
    "        s = s[:i] +'$'+s[i+1:]\n",
    "print(\"new string is: \",s)"
   ]
  },
  {
   "cell_type": "markdown",
   "metadata": {},
   "source": [
    "### Q. wap to change a given string to new where first and last chars are exchanged"
   ]
  },
  {
   "cell_type": "code",
   "execution_count": 12,
   "metadata": {},
   "outputs": [
    {
     "name": "stdout",
     "output_type": "stream",
     "text": [
      "Enter a string: nishit\n",
      "tishin\n"
     ]
    }
   ],
   "source": [
    "s = input(\"Enter a string: \")\n",
    "l = list(s)\n",
    "l[0],l[len(s)-1] = l[len(s)-1],l[0]\n",
    "print(\"\".join(l))"
   ]
  },
  {
   "cell_type": "markdown",
   "metadata": {},
   "source": [
    "### Q. wap to captialize first and last letters of each word"
   ]
  },
  {
   "cell_type": "code",
   "execution_count": 27,
   "metadata": {},
   "outputs": [
    {
     "name": "stdout",
     "output_type": "stream",
     "text": [
      "Enter a string: the quick brown fox jumps over lazy fox\n",
      "ThE QuicK BrowN FoX JumpS OveR LazY FoX "
     ]
    }
   ],
   "source": [
    "s = input(\"Enter a string: \")\n",
    "\n",
    "l = s.split()\n",
    "for i in l:\n",
    "    res = list(i)\n",
    "    res[0], res[len(i)-1] = res[0].upper(), res[len(i)-1].upper()\n",
    "    res = \"\".join(res)\n",
    "    out = res[0] + res[1:-1] + res[len(i)-1] \n",
    "    print(out ,end=\" \")\n"
   ]
  },
  {
   "cell_type": "markdown",
   "metadata": {},
   "source": [
    "### Q. wap to remove leading zeros"
   ]
  },
  {
   "cell_type": "code",
   "execution_count": 37,
   "metadata": {},
   "outputs": [
    {
     "name": "stdout",
     "output_type": "stream",
     "text": [
      "Enter a string: 255.024.01.01\n",
      "255.24.1.1\n"
     ]
    }
   ],
   "source": [
    "s = input(\"Enter a string: \")\n",
    "l = s.split(\".\")\n",
    "for i in range(len(l)):\n",
    "    l[i] = l[i].lstrip(\"0\")   \n",
    "print(\".\".join(l))\n"
   ]
  },
  {
   "cell_type": "markdown",
   "metadata": {},
   "source": [
    "### Q. wap that counts occurence of a char in a string from a specific location"
   ]
  },
  {
   "cell_type": "code",
   "execution_count": 39,
   "metadata": {},
   "outputs": [
    {
     "name": "stdout",
     "output_type": "stream",
     "text": [
      "Enter a string: asdfghjklzxcvbnmqwertyuiop\n",
      "Enter char: n\n",
      "Enter the index: 5\n",
      "The char 'n' occured in string 1 times\n"
     ]
    }
   ],
   "source": [
    "s = input(\"Enter a string: \")\n",
    "ch = input(\"Enter char: \")\n",
    "loc = int(input(\"Enter the index: \"))\n",
    "count=0\n",
    "if(len(ch)>1):\n",
    "    print(\"please only enter a char\")\n",
    "else:\n",
    "    for i in range(loc,len(s)):\n",
    "        if s[i] == ch:\n",
    "            count += 1\n",
    "    print(\"The char '{}' occured in string {} times\".format(ch,count))\n",
    "    "
   ]
  },
  {
   "cell_type": "markdown",
   "metadata": {},
   "source": [
    "### Q. wap to parse an email id to print from which email server and when(date) <br>inputs :- from abc@gmail.com mon aug 16 23:01:02 2019"
   ]
  },
  {
   "cell_type": "code",
   "execution_count": 47,
   "metadata": {},
   "outputs": [
    {
     "name": "stdout",
     "output_type": "stream",
     "text": [
      "Enter a string:  from abc@gmail.com mon aug 16 23:01:02 2019\n",
      "Email domain is:  gmail.com\n",
      "Email was sent at time :-23hrs /01mins /02secs\n"
     ]
    }
   ],
   "source": [
    "s = input(\"Enter a string: \")\n",
    "l = s.split()\n",
    "email = l[1]\n",
    "dom = \"\"\n",
    "for i in range(len(email)):\n",
    "    if email[i] == '@':\n",
    "        dom = email[i+1:]\n",
    "print(\"Email domain is: \",dom)\n",
    "\n",
    "time = l[5]\n",
    "h,m,s = time.split(\":\")\n",
    "\n",
    "print(\"Email was sent at time :-{}hrs /{}mins /{}secs\".format(h,m,s))\n"
   ]
  },
  {
   "cell_type": "code",
   "execution_count": null,
   "metadata": {},
   "outputs": [],
   "source": []
  }
 ],
 "metadata": {
  "kernelspec": {
   "display_name": "Python 3",
   "language": "python",
   "name": "python3"
  },
  "language_info": {
   "codemirror_mode": {
    "name": "ipython",
    "version": 3
   },
   "file_extension": ".py",
   "mimetype": "text/x-python",
   "name": "python",
   "nbconvert_exporter": "python",
   "pygments_lexer": "ipython3",
   "version": "3.6.8"
  }
 },
 "nbformat": 4,
 "nbformat_minor": 2
}
